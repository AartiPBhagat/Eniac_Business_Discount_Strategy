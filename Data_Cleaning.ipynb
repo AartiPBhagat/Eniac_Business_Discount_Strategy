{
 "cells": [
  {
   "cell_type": "markdown",
   "metadata": {
    "id": "opHVyOYpMax7"
   },
   "source": [
    "# **Data cleaning**"
   ]
  },
  {
   "cell_type": "code",
   "execution_count": 1,
   "metadata": {
    "id": "-2T_2Ds3SZ0T",
    "tags": []
   },
   "outputs": [],
   "source": [
    "import pandas as pd"
   ]
  },
  {
   "cell_type": "markdown",
   "metadata": {
    "id": "55_AuuQ7Se2e"
   },
   "source": [
    "# Table 1 : Orders"
   ]
  },
  {
   "cell_type": "markdown",
   "metadata": {
    "id": "HU-lo4j6SnkH"
   },
   "source": [
    "## Import & Overview"
   ]
  },
  {
   "cell_type": "code",
   "execution_count": 2,
   "metadata": {
    "id": "38h9JdalSjA8",
    "tags": []
   },
   "outputs": [],
   "source": [
    "# orders.csv local\n",
    "orders_path = 'raw_data/orders.csv'\n",
    "orders = pd.read_csv(orders_path)"
   ]
  },
  {
   "cell_type": "code",
   "execution_count": 3,
   "metadata": {
    "colab": {
     "base_uri": "https://localhost:8080/"
    },
    "id": "P5vw4j5YSlzq",
    "outputId": "b99ba748-2663-43f4-c679-98c31b77e7ee"
   },
   "outputs": [
    {
     "name": "stdout",
     "output_type": "stream",
     "text": [
      "<class 'pandas.core.frame.DataFrame'>\n",
      "RangeIndex: 226909 entries, 0 to 226908\n",
      "Data columns (total 4 columns):\n",
      " #   Column        Non-Null Count   Dtype  \n",
      "---  ------        --------------   -----  \n",
      " 0   order_id      226909 non-null  int64  \n",
      " 1   created_date  226909 non-null  object \n",
      " 2   total_paid    226904 non-null  float64\n",
      " 3   state         226909 non-null  object \n",
      "dtypes: float64(1), int64(1), object(2)\n",
      "memory usage: 6.9+ MB\n"
     ]
    }
   ],
   "source": [
    "orders.info()"
   ]
  },
  {
   "cell_type": "markdown",
   "metadata": {
    "id": "l6CPEGbgS3Jf"
   },
   "source": [
    "* **created_date** should be datetime type of column\n",
    "* **state** column can be better named as  **order_status** as it shows the status of an order\n",
    "* **total_paid** have null values"
   ]
  },
  {
   "cell_type": "code",
   "execution_count": 4,
   "metadata": {
    "colab": {
     "base_uri": "https://localhost:8080/"
    },
    "id": "VwXrui5STq0g",
    "outputId": "8e38c7c0-3546-4106-f36c-2a6a3a8b2d46"
   },
   "outputs": [
    {
     "data": {
      "text/plain": [
       "(226909, 4)"
      ]
     },
     "execution_count": 4,
     "metadata": {},
     "output_type": "execute_result"
    }
   ],
   "source": [
    "orders.shape"
   ]
  },
  {
   "cell_type": "markdown",
   "metadata": {
    "id": "B6OG3HotT3Mo"
   },
   "source": [
    "## Duplicates"
   ]
  },
  {
   "cell_type": "code",
   "execution_count": 5,
   "metadata": {
    "colab": {
     "base_uri": "https://localhost:8080/"
    },
    "id": "p-Z9wzpRT-aY",
    "outputId": "fe8ef6d5-e1bf-4b24-ed72-5d306be34a45"
   },
   "outputs": [
    {
     "data": {
      "text/plain": [
       "0"
      ]
     },
     "execution_count": 5,
     "metadata": {},
     "output_type": "execute_result"
    }
   ],
   "source": [
    "orders.duplicated().sum()"
   ]
  },
  {
   "cell_type": "markdown",
   "metadata": {
    "id": "t6KPRx2nUCtT"
   },
   "source": [
    "No duplicated rows"
   ]
  },
  {
   "cell_type": "markdown",
   "metadata": {
    "id": "Bp2vxJzIUHqu"
   },
   "source": [
    "## Missing Values"
   ]
  },
  {
   "cell_type": "code",
   "execution_count": 6,
   "metadata": {
    "colab": {
     "base_uri": "https://localhost:8080/"
    },
    "id": "2c_cPwNuUGTY",
    "outputId": "9b3661a2-65ec-44b2-dca0-cb44c6a2f86c"
   },
   "outputs": [
    {
     "data": {
      "text/plain": [
       "order_id        0\n",
       "created_date    0\n",
       "total_paid      5\n",
       "state           0\n",
       "dtype: int64"
      ]
     },
     "execution_count": 6,
     "metadata": {},
     "output_type": "execute_result"
    }
   ],
   "source": [
    "orders.isna().sum()"
   ]
  },
  {
   "cell_type": "markdown",
   "metadata": {
    "id": "JInhV4g-UZvM"
   },
   "source": [
    "#### total_paid"
   ]
  },
  {
   "cell_type": "code",
   "execution_count": 7,
   "metadata": {
    "colab": {
     "base_uri": "https://localhost:8080/"
    },
    "id": "7tfOUYM3UdXD",
    "outputId": "f0e28b8d-31bd-46d5-b18c-8a78833f554b"
   },
   "outputs": [
    {
     "data": {
      "text/plain": [
       "0.0022035265238487677"
      ]
     },
     "execution_count": 7,
     "metadata": {},
     "output_type": "execute_result"
    }
   ],
   "source": [
    "perc_total_paid_na = orders.total_paid.isna().sum()*100/orders.shape[0]\n",
    "perc_total_paid_na"
   ]
  },
  {
   "cell_type": "code",
   "execution_count": 8,
   "metadata": {
    "colab": {
     "base_uri": "https://localhost:8080/"
    },
    "id": "54A6aXzsVlPh",
    "outputId": "18b34077-ae0d-4014-b56a-0ae8215189d3"
   },
   "outputs": [
    {
     "data": {
      "text/plain": [
       "False    99.997796\n",
       "True      0.002204\n",
       "Name: total_paid, dtype: float64"
      ]
     },
     "execution_count": 8,
     "metadata": {},
     "output_type": "execute_result"
    }
   ],
   "source": [
    "# alternative to show percentage\n",
    "orders.total_paid.isna().value_counts(normalize=True)*100"
   ]
  },
  {
   "cell_type": "code",
   "execution_count": 9,
   "metadata": {
    "colab": {
     "base_uri": "https://localhost:8080/",
     "height": 35
    },
    "id": "elgwk_NiU7zj",
    "outputId": "9eaadcc3-9fa6-4e7c-94e3-4b9c6b790666"
   },
   "outputs": [
    {
     "data": {
      "text/plain": [
       "' total_paid column have 5 null values. 5 rows are 0.0022% of the total rows of orders table '"
      ]
     },
     "execution_count": 9,
     "metadata": {},
     "output_type": "execute_result"
    }
   ],
   "source": [
    "f\" total_paid column have 5 null values. 5 rows are {perc_total_paid_na.round(4)}% of the total rows of orders table \""
   ]
  },
  {
   "cell_type": "markdown",
   "metadata": {
    "id": "z1ISSLO0U1GJ"
   },
   "source": [
    "As there is such a tiny amount of missing values, we will simply delete these rows, as we have enough data without them."
   ]
  },
  {
   "cell_type": "code",
   "execution_count": 10,
   "metadata": {
    "id": "oCTo0MWFViDa"
   },
   "outputs": [],
   "source": [
    "orders = orders.loc[~orders.total_paid.isna()]"
   ]
  },
  {
   "cell_type": "code",
   "execution_count": 11,
   "metadata": {
    "colab": {
     "base_uri": "https://localhost:8080/"
    },
    "id": "HniyTB9pV192",
    "outputId": "3039c762-766c-443c-e6cc-a32530049089"
   },
   "outputs": [
    {
     "data": {
      "text/plain": [
       "order_id        0\n",
       "created_date    0\n",
       "total_paid      0\n",
       "state           0\n",
       "dtype: int64"
      ]
     },
     "execution_count": 11,
     "metadata": {},
     "output_type": "execute_result"
    }
   ],
   "source": [
    "orders.isna().sum()"
   ]
  },
  {
   "cell_type": "markdown",
   "metadata": {
    "id": "JQNTELNDWpuL"
   },
   "source": [
    "## Data type & Format"
   ]
  },
  {
   "cell_type": "code",
   "execution_count": 12,
   "metadata": {
    "colab": {
     "base_uri": "https://localhost:8080/"
    },
    "id": "4VZOMyGXW7CZ",
    "outputId": "cc5e5aeb-0949-4111-c84a-3d80de942e0f"
   },
   "outputs": [
    {
     "data": {
      "text/plain": [
       "order_id          int64\n",
       "created_date     object\n",
       "total_paid      float64\n",
       "state            object\n",
       "dtype: object"
      ]
     },
     "execution_count": 12,
     "metadata": {},
     "output_type": "execute_result"
    }
   ],
   "source": [
    "orders.dtypes"
   ]
  },
  {
   "cell_type": "markdown",
   "metadata": {
    "id": "N4bMZlrMXb8r"
   },
   "source": [
    "#### `order_id`"
   ]
  },
  {
   "cell_type": "code",
   "execution_count": 13,
   "metadata": {
    "id": "A-fsqw0uXldO"
   },
   "outputs": [],
   "source": [
    "orders['order_id'] = orders['order_id'].astype(str)"
   ]
  },
  {
   "cell_type": "markdown",
   "metadata": {
    "id": "Lw2Ur_w2XfWn"
   },
   "source": [
    "#### `created_date`"
   ]
  },
  {
   "cell_type": "code",
   "execution_count": 14,
   "metadata": {
    "id": "I84rrKr1Xsxc"
   },
   "outputs": [],
   "source": [
    "orders['created_date'] = pd.to_datetime(orders['created_date'])"
   ]
  },
  {
   "cell_type": "markdown",
   "metadata": {
    "id": "ZOcWd6EIXjWE"
   },
   "source": [
    "#### `state`"
   ]
  },
  {
   "cell_type": "code",
   "execution_count": 15,
   "metadata": {
    "id": "0X-woOCaYBAd"
   },
   "outputs": [],
   "source": [
    "orders = orders.rename(columns= {'state':'status'})"
   ]
  },
  {
   "cell_type": "code",
   "execution_count": 16,
   "metadata": {
    "colab": {
     "base_uri": "https://localhost:8080/"
    },
    "id": "m9IIqjStYl9H",
    "outputId": "36fa361e-f312-441a-e052-1bcb9f8a9501"
   },
   "outputs": [
    {
     "name": "stdout",
     "output_type": "stream",
     "text": [
      "<class 'pandas.core.frame.DataFrame'>\n",
      "Int64Index: 226904 entries, 0 to 226908\n",
      "Data columns (total 4 columns):\n",
      " #   Column        Non-Null Count   Dtype         \n",
      "---  ------        --------------   -----         \n",
      " 0   order_id      226904 non-null  object        \n",
      " 1   created_date  226904 non-null  datetime64[ns]\n",
      " 2   total_paid    226904 non-null  float64       \n",
      " 3   status        226904 non-null  object        \n",
      "dtypes: datetime64[ns](1), float64(1), object(2)\n",
      "memory usage: 8.7+ MB\n"
     ]
    }
   ],
   "source": [
    "orders.info()"
   ]
  },
  {
   "cell_type": "markdown",
   "metadata": {
    "id": "W1rTg1XaYtDf"
   },
   "source": [
    "## Export cleaned file as csv file"
   ]
  },
  {
   "cell_type": "code",
   "execution_count": 17,
   "metadata": {
    "id": "O7WG4hbYYr03"
   },
   "outputs": [],
   "source": [
    "# from google.colab import files\n",
    "\n",
    "# orders.to_csv(\"orders_cl.csv\", index=False)\n",
    "# files.download(\"orders_cl.csv\")"
   ]
  },
  {
   "cell_type": "code",
   "execution_count": 18,
   "metadata": {
    "tags": []
   },
   "outputs": [],
   "source": [
    "# code: local environment\n",
    "# orders.to_csv(\"clean_data/orders_cl.csv\", index=False)"
   ]
  },
  {
   "cell_type": "markdown",
   "metadata": {
    "id": "cEEx3GZ8Z10H",
    "tags": []
   },
   "source": [
    "# Table 2 : Orderlines"
   ]
  },
  {
   "cell_type": "markdown",
   "metadata": {
    "id": "h9ijeJ22aA-7",
    "tags": []
   },
   "source": [
    "## Import & Overview"
   ]
  },
  {
   "cell_type": "code",
   "execution_count": 36,
   "metadata": {
    "id": "etKy9gjlap0H",
    "tags": []
   },
   "outputs": [],
   "source": [
    "# orderlines.csv local\n",
    "orderlines_path = 'raw_data/orderlines.csv'\n",
    "orderlines = pd.read_csv(orderlines_path)"
   ]
  },
  {
   "cell_type": "code",
   "execution_count": 37,
   "metadata": {
    "colab": {
     "base_uri": "https://localhost:8080/"
    },
    "id": "YhYo2MoObRg8",
    "outputId": "63ec8d1f-6d5c-4dd1-8e4d-46e543f74dc1",
    "tags": []
   },
   "outputs": [
    {
     "name": "stdout",
     "output_type": "stream",
     "text": [
      "<class 'pandas.core.frame.DataFrame'>\n",
      "RangeIndex: 293983 entries, 0 to 293982\n",
      "Data columns (total 7 columns):\n",
      " #   Column            Non-Null Count   Dtype \n",
      "---  ------            --------------   ----- \n",
      " 0   id                293983 non-null  int64 \n",
      " 1   id_order          293983 non-null  int64 \n",
      " 2   product_id        293983 non-null  int64 \n",
      " 3   product_quantity  293983 non-null  int64 \n",
      " 4   sku               293983 non-null  object\n",
      " 5   unit_price        293983 non-null  object\n",
      " 6   date              293983 non-null  object\n",
      "dtypes: int64(4), object(3)\n",
      "memory usage: 15.7+ MB\n"
     ]
    }
   ],
   "source": [
    "orderlines.info()"
   ]
  },
  {
   "cell_type": "markdown",
   "metadata": {
    "id": "YflFaQdzbUSx"
   },
   "source": [
    "* `id` , `id_order`, `product_id` should be an object-string datatype\n",
    "* `date` should be a datetime datatype\n",
    "* `unit_price` should be a float datatype"
   ]
  },
  {
   "cell_type": "markdown",
   "metadata": {
    "id": "8QsTOsQCaCW_"
   },
   "source": [
    "## Duplicates"
   ]
  },
  {
   "cell_type": "code",
   "execution_count": 38,
   "metadata": {
    "colab": {
     "base_uri": "https://localhost:8080/"
    },
    "id": "2aBHLgSRbqc9",
    "outputId": "affeff20-e74b-44d3-a963-51eaf355e162",
    "tags": []
   },
   "outputs": [
    {
     "data": {
      "text/plain": [
       "0"
      ]
     },
     "execution_count": 38,
     "metadata": {},
     "output_type": "execute_result"
    }
   ],
   "source": [
    "orderlines.duplicated().sum()"
   ]
  },
  {
   "cell_type": "markdown",
   "metadata": {
    "id": "ZUueEbAdaGBl"
   },
   "source": [
    "## Missing Values"
   ]
  },
  {
   "cell_type": "code",
   "execution_count": 39,
   "metadata": {
    "colab": {
     "base_uri": "https://localhost:8080/"
    },
    "id": "EjpnPskBbubY",
    "outputId": "60cd6f6c-f10e-427a-9c15-48764aab43d0",
    "tags": []
   },
   "outputs": [
    {
     "data": {
      "text/plain": [
       "id                  0\n",
       "id_order            0\n",
       "product_id          0\n",
       "product_quantity    0\n",
       "sku                 0\n",
       "unit_price          0\n",
       "date                0\n",
       "dtype: int64"
      ]
     },
     "execution_count": 39,
     "metadata": {},
     "output_type": "execute_result"
    }
   ],
   "source": [
    "orderlines.isna().sum()"
   ]
  },
  {
   "cell_type": "markdown",
   "metadata": {
    "id": "3VvgoNZ-8X1J"
   },
   "source": [
    "#### `product_id`"
   ]
  },
  {
   "cell_type": "code",
   "execution_count": 40,
   "metadata": {
    "colab": {
     "base_uri": "https://localhost:8080/"
    },
    "id": "JuYhMBO073l5",
    "outputId": "b949009d-35cc-4a2b-f5ae-808e96d8b70f",
    "tags": []
   },
   "outputs": [
    {
     "data": {
      "text/plain": [
       "array([0])"
      ]
     },
     "execution_count": 40,
     "metadata": {},
     "output_type": "execute_result"
    }
   ],
   "source": [
    "orderlines.product_id.unique()"
   ]
  },
  {
   "cell_type": "markdown",
   "metadata": {
    "id": "tESCab_075QK"
   },
   "source": [
    "all values in product_id column is 0, which is of no sense, so this column can be dropped."
   ]
  },
  {
   "cell_type": "code",
   "execution_count": 41,
   "metadata": {
    "id": "bSqE35A68BKY",
    "tags": []
   },
   "outputs": [],
   "source": [
    "orderlines = orderlines.drop(columns=['product_id'])"
   ]
  },
  {
   "cell_type": "markdown",
   "metadata": {
    "id": "UzD8c-lyb15g"
   },
   "source": [
    "## Data Type & Format"
   ]
  },
  {
   "cell_type": "code",
   "execution_count": 42,
   "metadata": {
    "colab": {
     "base_uri": "https://localhost:8080/"
    },
    "id": "vHmAOATzb42R",
    "outputId": "8a8e6f32-fd97-4f44-efea-e077196ca5c3",
    "tags": []
   },
   "outputs": [
    {
     "data": {
      "text/plain": [
       "id                   int64\n",
       "id_order             int64\n",
       "product_quantity     int64\n",
       "sku                 object\n",
       "unit_price          object\n",
       "date                object\n",
       "dtype: object"
      ]
     },
     "execution_count": 42,
     "metadata": {},
     "output_type": "execute_result"
    }
   ],
   "source": [
    "orderlines.dtypes"
   ]
  },
  {
   "cell_type": "markdown",
   "metadata": {
    "id": "XnVqwTkpcb95"
   },
   "source": [
    "#### `id` , `id_order`"
   ]
  },
  {
   "cell_type": "code",
   "execution_count": 43,
   "metadata": {
    "id": "iLz1qCdmcSOv",
    "tags": []
   },
   "outputs": [],
   "source": [
    "# Convert specific columns to string type\n",
    "columns_to_convert = [\"id\", \"id_order\"]\n",
    "orderlines[columns_to_convert] = orderlines[columns_to_convert].astype(str)"
   ]
  },
  {
   "cell_type": "markdown",
   "metadata": {
    "id": "F5TP4cA-cnAI"
   },
   "source": [
    "#### `unit_price`"
   ]
  },
  {
   "cell_type": "code",
   "execution_count": 45,
   "metadata": {
    "tags": []
   },
   "outputs": [],
   "source": [
    "# commented this line as it gives an error due to value error\n",
    "# orderlines['unit_price'] = pd.to_numeric(orderlines['unit_price'])"
   ]
  },
  {
   "cell_type": "markdown",
   "metadata": {},
   "source": [
    "`ValueError: Unable to parse string \"1.137.99\" at position 6`\n",
    "\n",
    "This data type conversion give an error (as above), it shows the presence of two decimal values in unit_price column, let's have a look."
   ]
  },
  {
   "cell_type": "code",
   "execution_count": 46,
   "metadata": {
    "colab": {
     "base_uri": "https://localhost:8080/"
    },
    "id": "9VE7KfDABojM",
    "outputId": "3e423e81-9e62-46ad-ea80-25d6194f6053",
    "tags": []
   },
   "outputs": [
    {
     "data": {
      "text/plain": [
       "False    257814\n",
       "True      36169\n",
       "Name: unit_price, dtype: int64"
      ]
     },
     "execution_count": 46,
     "metadata": {},
     "output_type": "execute_result"
    }
   ],
   "source": [
    "two_decimal_unit_price = orderlines.unit_price.str.contains('\\d+\\.\\d+\\.\\d+')\n",
    "two_decimal_unit_price.value_counts()"
   ]
  },
  {
   "cell_type": "markdown",
   "metadata": {
    "id": "Fi5mWVk0C8Ar"
   },
   "source": [
    "Let's have a quick investigate to check that's correct. We'll make a DataFrame and then look at a sample to check that all the numbers in the `unit_price` column really have either 2 decimal points"
   ]
  },
  {
   "cell_type": "code",
   "execution_count": 47,
   "metadata": {
    "colab": {
     "base_uri": "https://localhost:8080/",
     "height": 676
    },
    "id": "dhi9uvhGC0yw",
    "outputId": "db086df2-797a-4e08-a20d-8ed8c403d01a",
    "tags": []
   },
   "outputs": [
    {
     "data": {
      "text/html": [
       "<div>\n",
       "<style scoped>\n",
       "    .dataframe tbody tr th:only-of-type {\n",
       "        vertical-align: middle;\n",
       "    }\n",
       "\n",
       "    .dataframe tbody tr th {\n",
       "        vertical-align: top;\n",
       "    }\n",
       "\n",
       "    .dataframe thead th {\n",
       "        text-align: right;\n",
       "    }\n",
       "</style>\n",
       "<table border=\"1\" class=\"dataframe\">\n",
       "  <thead>\n",
       "    <tr style=\"text-align: right;\">\n",
       "      <th></th>\n",
       "      <th>id</th>\n",
       "      <th>id_order</th>\n",
       "      <th>product_quantity</th>\n",
       "      <th>sku</th>\n",
       "      <th>unit_price</th>\n",
       "      <th>date</th>\n",
       "    </tr>\n",
       "  </thead>\n",
       "  <tbody>\n",
       "    <tr>\n",
       "      <th>132670</th>\n",
       "      <td>1381074</td>\n",
       "      <td>414000</td>\n",
       "      <td>1</td>\n",
       "      <td>APP2087</td>\n",
       "      <td>1.436.79</td>\n",
       "      <td>2017-10-18 15:39:47</td>\n",
       "    </tr>\n",
       "    <tr>\n",
       "      <th>272454</th>\n",
       "      <td>1615688</td>\n",
       "      <td>512368</td>\n",
       "      <td>1</td>\n",
       "      <td>APP2254</td>\n",
       "      <td>1.714.59</td>\n",
       "      <td>2018-02-16 06:53:45</td>\n",
       "    </tr>\n",
       "    <tr>\n",
       "      <th>200880</th>\n",
       "      <td>1494340</td>\n",
       "      <td>462038</td>\n",
       "      <td>1</td>\n",
       "      <td>APP2067</td>\n",
       "      <td>1.699.00</td>\n",
       "      <td>2017-12-13 17:37:12</td>\n",
       "    </tr>\n",
       "    <tr>\n",
       "      <th>18543</th>\n",
       "      <td>1161647</td>\n",
       "      <td>315900</td>\n",
       "      <td>1</td>\n",
       "      <td>PAC1033</td>\n",
       "      <td>2.845.99</td>\n",
       "      <td>2017-01-27 14:37:35</td>\n",
       "    </tr>\n",
       "    <tr>\n",
       "      <th>284284</th>\n",
       "      <td>1635834</td>\n",
       "      <td>521338</td>\n",
       "      <td>2</td>\n",
       "      <td>APP2270</td>\n",
       "      <td>3.215.01</td>\n",
       "      <td>2018-03-05 10:36:05</td>\n",
       "    </tr>\n",
       "    <tr>\n",
       "      <th>246772</th>\n",
       "      <td>1575458</td>\n",
       "      <td>496628</td>\n",
       "      <td>1</td>\n",
       "      <td>PAC2073</td>\n",
       "      <td>2.598.59</td>\n",
       "      <td>2018-01-23 09:16:00</td>\n",
       "    </tr>\n",
       "    <tr>\n",
       "      <th>187647</th>\n",
       "      <td>1476518</td>\n",
       "      <td>455184</td>\n",
       "      <td>1</td>\n",
       "      <td>APP2375</td>\n",
       "      <td>2.010.59</td>\n",
       "      <td>2017-12-04 18:22:36</td>\n",
       "    </tr>\n",
       "    <tr>\n",
       "      <th>269316</th>\n",
       "      <td>1610508</td>\n",
       "      <td>510099</td>\n",
       "      <td>1</td>\n",
       "      <td>APP2490</td>\n",
       "      <td>1.159.00</td>\n",
       "      <td>2018-02-12 13:04:52</td>\n",
       "    </tr>\n",
       "    <tr>\n",
       "      <th>239375</th>\n",
       "      <td>1563042</td>\n",
       "      <td>489062</td>\n",
       "      <td>1</td>\n",
       "      <td>APP2490</td>\n",
       "      <td>1.139.00</td>\n",
       "      <td>2018-01-16 01:07:19</td>\n",
       "    </tr>\n",
       "    <tr>\n",
       "      <th>228354</th>\n",
       "      <td>1544776</td>\n",
       "      <td>484720</td>\n",
       "      <td>1</td>\n",
       "      <td>APP2287</td>\n",
       "      <td>3.188.59</td>\n",
       "      <td>2018-01-07 23:14:47</td>\n",
       "    </tr>\n",
       "    <tr>\n",
       "      <th>205061</th>\n",
       "      <td>1501485</td>\n",
       "      <td>465222</td>\n",
       "      <td>1</td>\n",
       "      <td>APP2079</td>\n",
       "      <td>1.399.00</td>\n",
       "      <td>2017-12-17 23:30:01</td>\n",
       "    </tr>\n",
       "    <tr>\n",
       "      <th>138037</th>\n",
       "      <td>1390731</td>\n",
       "      <td>418730</td>\n",
       "      <td>1</td>\n",
       "      <td>APP2281</td>\n",
       "      <td>2.713.59</td>\n",
       "      <td>2017-10-27 18:14:45</td>\n",
       "    </tr>\n",
       "    <tr>\n",
       "      <th>250035</th>\n",
       "      <td>1580373</td>\n",
       "      <td>498428</td>\n",
       "      <td>1</td>\n",
       "      <td>APP2330</td>\n",
       "      <td>4.502.59</td>\n",
       "      <td>2018-01-25 15:46:17</td>\n",
       "    </tr>\n",
       "    <tr>\n",
       "      <th>34039</th>\n",
       "      <td>1191883</td>\n",
       "      <td>329300</td>\n",
       "      <td>1</td>\n",
       "      <td>PAC1590</td>\n",
       "      <td>2.504.99</td>\n",
       "      <td>2017-02-26 22:13:11</td>\n",
       "    </tr>\n",
       "    <tr>\n",
       "      <th>277666</th>\n",
       "      <td>1624752</td>\n",
       "      <td>516389</td>\n",
       "      <td>1</td>\n",
       "      <td>APP2489</td>\n",
       "      <td>1.099.00</td>\n",
       "      <td>2018-02-23 10:31:25</td>\n",
       "    </tr>\n",
       "    <tr>\n",
       "      <th>281010</th>\n",
       "      <td>1630469</td>\n",
       "      <td>518872</td>\n",
       "      <td>1</td>\n",
       "      <td>APP2490</td>\n",
       "      <td>1.159.00</td>\n",
       "      <td>2018-02-28 16:04:48</td>\n",
       "    </tr>\n",
       "    <tr>\n",
       "      <th>173636</th>\n",
       "      <td>1456969</td>\n",
       "      <td>447804</td>\n",
       "      <td>1</td>\n",
       "      <td>APP2074</td>\n",
       "      <td>2.498.59</td>\n",
       "      <td>2017-11-27 12:03:05</td>\n",
       "    </tr>\n",
       "    <tr>\n",
       "      <th>82550</th>\n",
       "      <td>1278267</td>\n",
       "      <td>370591</td>\n",
       "      <td>1</td>\n",
       "      <td>APP2188</td>\n",
       "      <td>1.348.00</td>\n",
       "      <td>2017-06-30 10:43:21</td>\n",
       "    </tr>\n",
       "    <tr>\n",
       "      <th>229779</th>\n",
       "      <td>1547192</td>\n",
       "      <td>485656</td>\n",
       "      <td>1</td>\n",
       "      <td>APP1003</td>\n",
       "      <td>2.371.59</td>\n",
       "      <td>2018-01-08 17:29:42</td>\n",
       "    </tr>\n",
       "    <tr>\n",
       "      <th>43022</th>\n",
       "      <td>1208743</td>\n",
       "      <td>336968</td>\n",
       "      <td>1</td>\n",
       "      <td>PAC1628</td>\n",
       "      <td>4.049.99</td>\n",
       "      <td>2017-03-20 10:43:13</td>\n",
       "    </tr>\n",
       "  </tbody>\n",
       "</table>\n",
       "</div>"
      ],
      "text/plain": [
       "             id id_order  product_quantity      sku unit_price  \\\n",
       "132670  1381074   414000                 1  APP2087   1.436.79   \n",
       "272454  1615688   512368                 1  APP2254   1.714.59   \n",
       "200880  1494340   462038                 1  APP2067   1.699.00   \n",
       "18543   1161647   315900                 1  PAC1033   2.845.99   \n",
       "284284  1635834   521338                 2  APP2270   3.215.01   \n",
       "246772  1575458   496628                 1  PAC2073   2.598.59   \n",
       "187647  1476518   455184                 1  APP2375   2.010.59   \n",
       "269316  1610508   510099                 1  APP2490   1.159.00   \n",
       "239375  1563042   489062                 1  APP2490   1.139.00   \n",
       "228354  1544776   484720                 1  APP2287   3.188.59   \n",
       "205061  1501485   465222                 1  APP2079   1.399.00   \n",
       "138037  1390731   418730                 1  APP2281   2.713.59   \n",
       "250035  1580373   498428                 1  APP2330   4.502.59   \n",
       "34039   1191883   329300                 1  PAC1590   2.504.99   \n",
       "277666  1624752   516389                 1  APP2489   1.099.00   \n",
       "281010  1630469   518872                 1  APP2490   1.159.00   \n",
       "173636  1456969   447804                 1  APP2074   2.498.59   \n",
       "82550   1278267   370591                 1  APP2188   1.348.00   \n",
       "229779  1547192   485656                 1  APP1003   2.371.59   \n",
       "43022   1208743   336968                 1  PAC1628   4.049.99   \n",
       "\n",
       "                       date  \n",
       "132670  2017-10-18 15:39:47  \n",
       "272454  2018-02-16 06:53:45  \n",
       "200880  2017-12-13 17:37:12  \n",
       "18543   2017-01-27 14:37:35  \n",
       "284284  2018-03-05 10:36:05  \n",
       "246772  2018-01-23 09:16:00  \n",
       "187647  2017-12-04 18:22:36  \n",
       "269316  2018-02-12 13:04:52  \n",
       "239375  2018-01-16 01:07:19  \n",
       "228354  2018-01-07 23:14:47  \n",
       "205061  2017-12-17 23:30:01  \n",
       "138037  2017-10-27 18:14:45  \n",
       "250035  2018-01-25 15:46:17  \n",
       "34039   2017-02-26 22:13:11  \n",
       "277666  2018-02-23 10:31:25  \n",
       "281010  2018-02-28 16:04:48  \n",
       "173636  2017-11-27 12:03:05  \n",
       "82550   2017-06-30 10:43:21  \n",
       "229779  2018-01-08 17:29:42  \n",
       "43022   2017-03-20 10:43:13  "
      ]
     },
     "execution_count": 47,
     "metadata": {},
     "output_type": "execute_result"
    }
   ],
   "source": [
    "unit_price_problem = orderlines.loc[two_decimal_unit_price]\n",
    "unit_price_problem.sample(20)"
   ]
  },
  {
   "cell_type": "markdown",
   "metadata": {
    "id": "UEkNWIzXE2ix"
   },
   "source": [
    "There are three main patterns for two decimal unit_price and we may remove first decimal for last pattern only, for first two pattern it may affect analysis. Ex. what is maximum unit_price?\n",
    "\n",
    "**Patterns** :\n",
    "\n",
    "* ddd.ddd.dd\n",
    "* dd.ddd.dd\n",
    "* d.ddd.dd"
   ]
  },
  {
   "cell_type": "code",
   "execution_count": 48,
   "metadata": {
    "colab": {
     "base_uri": "https://localhost:8080/",
     "height": 81
    },
    "id": "ICNb85qYEUnt",
    "outputId": "bc6b5603-87ef-405e-997f-bad68d4541cf",
    "tags": []
   },
   "outputs": [
    {
     "data": {
      "text/html": [
       "<div>\n",
       "<style scoped>\n",
       "    .dataframe tbody tr th:only-of-type {\n",
       "        vertical-align: middle;\n",
       "    }\n",
       "\n",
       "    .dataframe tbody tr th {\n",
       "        vertical-align: top;\n",
       "    }\n",
       "\n",
       "    .dataframe thead th {\n",
       "        text-align: right;\n",
       "    }\n",
       "</style>\n",
       "<table border=\"1\" class=\"dataframe\">\n",
       "  <thead>\n",
       "    <tr style=\"text-align: right;\">\n",
       "      <th></th>\n",
       "      <th>id</th>\n",
       "      <th>id_order</th>\n",
       "      <th>product_quantity</th>\n",
       "      <th>sku</th>\n",
       "      <th>unit_price</th>\n",
       "      <th>date</th>\n",
       "    </tr>\n",
       "  </thead>\n",
       "  <tbody>\n",
       "    <tr>\n",
       "      <th>36979</th>\n",
       "      <td>1197439</td>\n",
       "      <td>331780</td>\n",
       "      <td>1</td>\n",
       "      <td>NEA0009</td>\n",
       "      <td>159.989.83</td>\n",
       "      <td>2017-03-03 22:29:21</td>\n",
       "    </tr>\n",
       "  </tbody>\n",
       "</table>\n",
       "</div>"
      ],
      "text/plain": [
       "            id id_order  product_quantity      sku  unit_price  \\\n",
       "36979  1197439   331780                 1  NEA0009  159.989.83   \n",
       "\n",
       "                      date  \n",
       "36979  2017-03-03 22:29:21  "
      ]
     },
     "execution_count": 48,
     "metadata": {},
     "output_type": "execute_result"
    }
   ],
   "source": [
    "orderlines.loc[orderlines.unit_price.str.contains('\\d{3}\\.\\d+\\.\\d+')]"
   ]
  },
  {
   "cell_type": "code",
   "execution_count": 49,
   "metadata": {
    "colab": {
     "base_uri": "https://localhost:8080/"
    },
    "id": "dLGIyzurFb1t",
    "outputId": "0ccfa2de-3682-43f0-f71a-2f5f07acdab4",
    "tags": []
   },
   "outputs": [
    {
     "data": {
      "text/plain": [
       "33"
      ]
     },
     "execution_count": 49,
     "metadata": {},
     "output_type": "execute_result"
    }
   ],
   "source": [
    "orderlines.loc[orderlines.unit_price.str.contains('\\d{2}\\.\\d+\\.\\d+')]['unit_price'].count()"
   ]
  },
  {
   "cell_type": "code",
   "execution_count": 50,
   "metadata": {
    "colab": {
     "base_uri": "https://localhost:8080/"
    },
    "id": "FHtLNJCVFyK5",
    "outputId": "8a1de3ba-3775-4910-f3b9-c3361ef18fcc",
    "tags": []
   },
   "outputs": [
    {
     "data": {
      "text/plain": [
       "36169"
      ]
     },
     "execution_count": 50,
     "metadata": {},
     "output_type": "execute_result"
    }
   ],
   "source": [
    "orderlines.loc[orderlines.unit_price.str.contains('\\d\\.\\d+\\.\\d+')]['unit_price'].count()"
   ]
  },
  {
   "cell_type": "code",
   "execution_count": 51,
   "metadata": {
    "colab": {
     "base_uri": "https://localhost:8080/",
     "height": 35
    },
    "id": "H9EnYcvnJ5lB",
    "outputId": "e2ea99ba-a3d0-4e5e-f4af-3a4f2cd1766c",
    "tags": []
   },
   "outputs": [
    {
     "data": {
      "text/plain": [
       "' 36169 rows are 12.3031% of total rows.'"
      ]
     },
     "execution_count": 51,
     "metadata": {},
     "output_type": "execute_result"
    }
   ],
   "source": [
    "unit_price_problem_perc = unit_price_problem.unit_price.count()*100.0/orderlines.shape[0]\n",
    "f\" 36169 rows are {unit_price_problem_perc.round(4)}% of total rows.\""
   ]
  },
  {
   "cell_type": "markdown",
   "metadata": {
    "id": "ktojm1wtK5ek"
   },
   "source": [
    "This is a bit of a tricky decision as 12.3% is a significant amount of our data... and we might even end up losing a larger portion of our data than this too. For the moment we will delete the rows for quick, accurate results to show.\n",
    "\n",
    "Each row of orderlines represents a product in an order. For example, if order number 175 contained 3 seperate products, then order 175 would have 3 rows in orderlines, one row for each of the products. If 2 of those products have 'normal' prices (14.99, 15.85) and 1 has a price with 2 decimal points (1.137.99), we need to remove the whole order and not just the affected row. If we only remove the row with 2 decimal places then any later analysis about products and prices could be misleading.\n",
    "\n",
    "We therefore need to find the order numbers associated with the rows that have 2 decimal points, and then remove all the associated rows."
   ]
  },
  {
   "cell_type": "code",
   "execution_count": 52,
   "metadata": {
    "id": "P-cwBQobLN2u",
    "tags": []
   },
   "outputs": [],
   "source": [
    "# order_id for all orderlines having two decimal value problem\n",
    "two_decimal_order_ids_list = orderlines.loc[orderlines.unit_price.str.contains(\"\\d+\\.\\d+\\.\\d+\"), \"id_order\"]\n",
    "\n",
    "# drop all orders- orderlines with two decimal value problem\n",
    "orderlines = orderlines.loc[~orderlines.id_order.isin(two_decimal_order_ids_list)]"
   ]
  },
  {
   "cell_type": "markdown",
   "metadata": {
    "id": "mTZ3gO5Y2cSu"
   },
   "source": [
    "* Let's finally convert unit_price to numeric type"
   ]
  },
  {
   "cell_type": "code",
   "execution_count": 53,
   "metadata": {
    "colab": {
     "base_uri": "https://localhost:8080/"
    },
    "id": "CeyDcmnu1VD5",
    "outputId": "eb0ad4e4-2fe0-4122-8b40-ae5c278bc64d",
    "tags": []
   },
   "outputs": [],
   "source": [
    "orderlines['unit_price'] = pd.to_numeric(orderlines['unit_price'])"
   ]
  },
  {
   "cell_type": "markdown",
   "metadata": {
    "id": "fNzg6Nas3GRq"
   },
   "source": [
    "##### Issues with unit_price"
   ]
  },
  {
   "cell_type": "markdown",
   "metadata": {
    "id": "la89eehj3b3s"
   },
   "source": [
    "unit_price < 0"
   ]
  },
  {
   "cell_type": "code",
   "execution_count": 54,
   "metadata": {
    "colab": {
     "base_uri": "https://localhost:8080/",
     "height": 81
    },
    "id": "CwbMhaLk1Nke",
    "outputId": "f866e63a-cd8a-48da-a3ff-561da081721f",
    "tags": []
   },
   "outputs": [
    {
     "data": {
      "text/html": [
       "<div>\n",
       "<style scoped>\n",
       "    .dataframe tbody tr th:only-of-type {\n",
       "        vertical-align: middle;\n",
       "    }\n",
       "\n",
       "    .dataframe tbody tr th {\n",
       "        vertical-align: top;\n",
       "    }\n",
       "\n",
       "    .dataframe thead th {\n",
       "        text-align: right;\n",
       "    }\n",
       "</style>\n",
       "<table border=\"1\" class=\"dataframe\">\n",
       "  <thead>\n",
       "    <tr style=\"text-align: right;\">\n",
       "      <th></th>\n",
       "      <th>id</th>\n",
       "      <th>id_order</th>\n",
       "      <th>product_quantity</th>\n",
       "      <th>sku</th>\n",
       "      <th>unit_price</th>\n",
       "      <th>date</th>\n",
       "    </tr>\n",
       "  </thead>\n",
       "  <tbody>\n",
       "    <tr>\n",
       "      <th>77008</th>\n",
       "      <td>1268645</td>\n",
       "      <td>365886</td>\n",
       "      <td>1</td>\n",
       "      <td>APP1465</td>\n",
       "      <td>-119.0</td>\n",
       "      <td>2017-06-15 12:48:54</td>\n",
       "    </tr>\n",
       "  </tbody>\n",
       "</table>\n",
       "</div>"
      ],
      "text/plain": [
       "            id id_order  product_quantity      sku  unit_price  \\\n",
       "77008  1268645   365886                 1  APP1465      -119.0   \n",
       "\n",
       "                      date  \n",
       "77008  2017-06-15 12:48:54  "
      ]
     },
     "execution_count": 54,
     "metadata": {},
     "output_type": "execute_result"
    }
   ],
   "source": [
    "orderlines.loc[orderlines.unit_price < 0]"
   ]
  },
  {
   "cell_type": "markdown",
   "metadata": {
    "id": "3hTUVluN3nZu"
   },
   "source": [
    "Overview of id_order"
   ]
  },
  {
   "cell_type": "code",
   "execution_count": 55,
   "metadata": {
    "colab": {
     "base_uri": "https://localhost:8080/",
     "height": 112
    },
    "id": "DTsLA38n2tWJ",
    "outputId": "f2ef5174-747d-4fed-81ed-a9c6e719ce32",
    "tags": []
   },
   "outputs": [
    {
     "data": {
      "text/html": [
       "<div>\n",
       "<style scoped>\n",
       "    .dataframe tbody tr th:only-of-type {\n",
       "        vertical-align: middle;\n",
       "    }\n",
       "\n",
       "    .dataframe tbody tr th {\n",
       "        vertical-align: top;\n",
       "    }\n",
       "\n",
       "    .dataframe thead th {\n",
       "        text-align: right;\n",
       "    }\n",
       "</style>\n",
       "<table border=\"1\" class=\"dataframe\">\n",
       "  <thead>\n",
       "    <tr style=\"text-align: right;\">\n",
       "      <th></th>\n",
       "      <th>id</th>\n",
       "      <th>id_order</th>\n",
       "      <th>product_quantity</th>\n",
       "      <th>sku</th>\n",
       "      <th>unit_price</th>\n",
       "      <th>date</th>\n",
       "    </tr>\n",
       "  </thead>\n",
       "  <tbody>\n",
       "    <tr>\n",
       "      <th>77008</th>\n",
       "      <td>1268645</td>\n",
       "      <td>365886</td>\n",
       "      <td>1</td>\n",
       "      <td>APP1465</td>\n",
       "      <td>-119.0</td>\n",
       "      <td>2017-06-15 12:48:54</td>\n",
       "    </tr>\n",
       "    <tr>\n",
       "      <th>77009</th>\n",
       "      <td>1268647</td>\n",
       "      <td>365886</td>\n",
       "      <td>1</td>\n",
       "      <td>APP2092</td>\n",
       "      <td>149.0</td>\n",
       "      <td>2017-06-15 12:49:21</td>\n",
       "    </tr>\n",
       "  </tbody>\n",
       "</table>\n",
       "</div>"
      ],
      "text/plain": [
       "            id id_order  product_quantity      sku  unit_price  \\\n",
       "77008  1268645   365886                 1  APP1465      -119.0   \n",
       "77009  1268647   365886                 1  APP2092       149.0   \n",
       "\n",
       "                      date  \n",
       "77008  2017-06-15 12:48:54  \n",
       "77009  2017-06-15 12:49:21  "
      ]
     },
     "execution_count": 55,
     "metadata": {},
     "output_type": "execute_result"
    }
   ],
   "source": [
    "orderlines.loc[orderlines.id_order == '365886']"
   ]
  },
  {
   "cell_type": "markdown",
   "metadata": {
    "id": "CeWcPo4L30TP"
   },
   "source": [
    "How is this order in the orders table?"
   ]
  },
  {
   "cell_type": "code",
   "execution_count": 56,
   "metadata": {
    "colab": {
     "base_uri": "https://localhost:8080/",
     "height": 179
    },
    "id": "hPno3Sbv2-tT",
    "outputId": "2cee2aed-6a44-4192-e63d-ed22221911ad",
    "tags": []
   },
   "outputs": [
    {
     "data": {
      "text/html": [
       "<div>\n",
       "<style scoped>\n",
       "    .dataframe tbody tr th:only-of-type {\n",
       "        vertical-align: middle;\n",
       "    }\n",
       "\n",
       "    .dataframe tbody tr th {\n",
       "        vertical-align: top;\n",
       "    }\n",
       "\n",
       "    .dataframe thead th {\n",
       "        text-align: right;\n",
       "    }\n",
       "</style>\n",
       "<table border=\"1\" class=\"dataframe\">\n",
       "  <thead>\n",
       "    <tr style=\"text-align: right;\">\n",
       "      <th></th>\n",
       "      <th>order_id</th>\n",
       "      <th>created_date</th>\n",
       "      <th>total_paid</th>\n",
       "      <th>status</th>\n",
       "    </tr>\n",
       "  </thead>\n",
       "  <tbody>\n",
       "    <tr>\n",
       "      <th>66340</th>\n",
       "      <td>365886</td>\n",
       "      <td>2017-06-15 12:51:18</td>\n",
       "      <td>30.0</td>\n",
       "      <td>Cancelled</td>\n",
       "    </tr>\n",
       "  </tbody>\n",
       "</table>\n",
       "</div>"
      ],
      "text/plain": [
       "      order_id        created_date  total_paid     status\n",
       "66340   365886 2017-06-15 12:51:18        30.0  Cancelled"
      ]
     },
     "execution_count": 56,
     "metadata": {},
     "output_type": "execute_result"
    }
   ],
   "source": [
    "orders.loc[orders.order_id == '365886']"
   ]
  },
  {
   "cell_type": "markdown",
   "metadata": {
    "id": "pSVcRlPK19M4"
   },
   "source": [
    "#### `date`"
   ]
  },
  {
   "cell_type": "code",
   "execution_count": 57,
   "metadata": {
    "id": "FTNwSHWE2Af2",
    "tags": []
   },
   "outputs": [],
   "source": [
    "orderlines['date'] = pd.to_datetime(orderlines['date'])"
   ]
  },
  {
   "cell_type": "code",
   "execution_count": 58,
   "metadata": {
    "id": "_ATX1NucgOD1",
    "tags": []
   },
   "outputs": [],
   "source": [
    "orderlines = orderlines.rename(columns={'id_order':'order_id'})"
   ]
  },
  {
   "cell_type": "code",
   "execution_count": 59,
   "metadata": {
    "colab": {
     "base_uri": "https://localhost:8080/"
    },
    "id": "2yNxgER110Rj",
    "outputId": "ad35bfff-fa24-41a6-c167-8ddca5ab7e2f",
    "tags": []
   },
   "outputs": [
    {
     "name": "stdout",
     "output_type": "stream",
     "text": [
      "<class 'pandas.core.frame.DataFrame'>\n",
      "Int64Index: 216250 entries, 0 to 293982\n",
      "Data columns (total 6 columns):\n",
      " #   Column            Non-Null Count   Dtype         \n",
      "---  ------            --------------   -----         \n",
      " 0   id                216250 non-null  object        \n",
      " 1   order_id          216250 non-null  object        \n",
      " 2   product_quantity  216250 non-null  int64         \n",
      " 3   sku               216250 non-null  object        \n",
      " 4   unit_price        216250 non-null  float64       \n",
      " 5   date              216250 non-null  datetime64[ns]\n",
      "dtypes: datetime64[ns](1), float64(1), int64(1), object(3)\n",
      "memory usage: 11.5+ MB\n"
     ]
    }
   ],
   "source": [
    "orderlines.info()"
   ]
  },
  {
   "cell_type": "markdown",
   "metadata": {
    "id": "0_JmEU-QaH_X"
   },
   "source": [
    "## Export cleaned file as csv file"
   ]
  },
  {
   "cell_type": "code",
   "execution_count": 60,
   "metadata": {
    "colab": {
     "base_uri": "https://localhost:8080/",
     "height": 375
    },
    "id": "ZNpZ9B7bZ7yd",
    "outputId": "438857aa-df26-420b-d984-efbd7c3d8453",
    "tags": []
   },
   "outputs": [],
   "source": [
    "# # uncomment(below 3 lines) at last to avoid downloading multiple times\n",
    "# from google.colab import files\n",
    "\n",
    "# orderlines.to_csv(\"orderlines_cl.csv\", index=False)\n",
    "# files.download(\"orderlines_cl.csv\")"
   ]
  },
  {
   "cell_type": "code",
   "execution_count": 61,
   "metadata": {
    "tags": []
   },
   "outputs": [],
   "source": [
    "# code for local machine\n",
    "# orderlines.to_csv('clean_data/orderlines_cl.csv',index=False)"
   ]
  },
  {
   "cell_type": "markdown",
   "metadata": {
    "id": "WK1kjQqe7H1U",
    "tags": []
   },
   "source": [
    "# Table 3 : Products"
   ]
  },
  {
   "cell_type": "markdown",
   "metadata": {
    "id": "nVsRUzouMU2I"
   },
   "source": [
    "## Import & Overview"
   ]
  },
  {
   "cell_type": "code",
   "execution_count": 62,
   "metadata": {
    "id": "bY6AmArjSWN5",
    "tags": []
   },
   "outputs": [],
   "source": [
    "# products.csv local\n",
    "products_path = 'raw_data/products.csv'\n",
    "products = pd.read_csv(products_path)"
   ]
  },
  {
   "cell_type": "code",
   "execution_count": 63,
   "metadata": {
    "colab": {
     "base_uri": "https://localhost:8080/"
    },
    "id": "ossmIIiCShs2",
    "outputId": "58d37c4e-c1d9-4ef8-df67-91983cb87b0d",
    "tags": []
   },
   "outputs": [
    {
     "name": "stdout",
     "output_type": "stream",
     "text": [
      "<class 'pandas.core.frame.DataFrame'>\n",
      "RangeIndex: 19326 entries, 0 to 19325\n",
      "Data columns (total 7 columns):\n",
      " #   Column       Non-Null Count  Dtype \n",
      "---  ------       --------------  ----- \n",
      " 0   sku          19326 non-null  object\n",
      " 1   name         19326 non-null  object\n",
      " 2   desc         19319 non-null  object\n",
      " 3   price        19280 non-null  object\n",
      " 4   promo_price  19326 non-null  object\n",
      " 5   in_stock     19326 non-null  int64 \n",
      " 6   type         19276 non-null  object\n",
      "dtypes: int64(1), object(6)\n",
      "memory usage: 1.0+ MB\n"
     ]
    }
   ],
   "source": [
    "products.info()"
   ]
  },
  {
   "cell_type": "markdown",
   "metadata": {
    "id": "jDrTDeuoSihr"
   },
   "source": [
    "* **price** and **promo_price** columns should have numeric type\n",
    "* **in_stock** should be bool type"
   ]
  },
  {
   "cell_type": "code",
   "execution_count": 64,
   "metadata": {
    "colab": {
     "base_uri": "https://localhost:8080/"
    },
    "id": "XCk2y79oSxgp",
    "outputId": "b5ac2d9a-5fba-445d-830a-03d756118de4",
    "tags": []
   },
   "outputs": [
    {
     "data": {
      "text/plain": [
       "(19326, 7)"
      ]
     },
     "execution_count": 64,
     "metadata": {},
     "output_type": "execute_result"
    }
   ],
   "source": [
    "products.shape"
   ]
  },
  {
   "cell_type": "markdown",
   "metadata": {
    "id": "ke1PwQDc8W_L"
   },
   "source": [
    "## Duplicates"
   ]
  },
  {
   "cell_type": "code",
   "execution_count": 67,
   "metadata": {
    "colab": {
     "base_uri": "https://localhost:8080/"
    },
    "id": "lb67fwe9Spb_",
    "outputId": "e367a003-d70c-47cf-f593-9a336e96b7ab",
    "tags": []
   },
   "outputs": [
    {
     "data": {
      "text/plain": [
       "8746"
      ]
     },
     "execution_count": 67,
     "metadata": {},
     "output_type": "execute_result"
    }
   ],
   "source": [
    "products.duplicated().sum()"
   ]
  },
  {
   "cell_type": "code",
   "execution_count": 69,
   "metadata": {
    "id": "Hoq38_arSzWx",
    "tags": []
   },
   "outputs": [],
   "source": [
    "products = products.drop_duplicates()"
   ]
  },
  {
   "cell_type": "code",
   "execution_count": 71,
   "metadata": {
    "colab": {
     "base_uri": "https://localhost:8080/"
    },
    "id": "ndhOREaxS8lo",
    "outputId": "ba927a35-8106-4edc-f921-5405ee9e4205",
    "tags": []
   },
   "outputs": [
    {
     "data": {
      "text/plain": [
       "0"
      ]
     },
     "execution_count": 71,
     "metadata": {},
     "output_type": "execute_result"
    }
   ],
   "source": [
    "products.duplicated().sum()"
   ]
  },
  {
   "cell_type": "code",
   "execution_count": 72,
   "metadata": {
    "colab": {
     "base_uri": "https://localhost:8080/"
    },
    "id": "I5S8GVpIS4Uk",
    "outputId": "b4589f2c-d372-40bd-f11c-9c0f42de499b",
    "tags": []
   },
   "outputs": [
    {
     "data": {
      "text/plain": [
       "(10580, 7)"
      ]
     },
     "execution_count": 72,
     "metadata": {},
     "output_type": "execute_result"
    }
   ],
   "source": [
    "products.shape"
   ]
  },
  {
   "cell_type": "markdown",
   "metadata": {
    "id": "1vfX7TwVTMqq"
   },
   "source": [
    "## Missing Values"
   ]
  },
  {
   "cell_type": "code",
   "execution_count": 73,
   "metadata": {
    "colab": {
     "base_uri": "https://localhost:8080/"
    },
    "id": "jMwo6sM0TBRw",
    "outputId": "0bb77471-3979-4e65-b047-8a22a6aaea15",
    "tags": []
   },
   "outputs": [
    {
     "data": {
      "text/plain": [
       "sku             0\n",
       "name            0\n",
       "desc            7\n",
       "price          46\n",
       "promo_price     0\n",
       "in_stock        0\n",
       "type           50\n",
       "dtype: int64"
      ]
     },
     "execution_count": 73,
     "metadata": {},
     "output_type": "execute_result"
    }
   ],
   "source": [
    "products.isna().sum()"
   ]
  },
  {
   "cell_type": "markdown",
   "metadata": {},
   "source": [
    "Manipulating price column can affect statistical analysis, so we will at least do not drop 7 NaN rows in desc and 50 NaN rows in type columns, instead we will replace it with one fixed value."
   ]
  },
  {
   "cell_type": "markdown",
   "metadata": {
    "id": "uwHCTDNm8v4J"
   },
   "source": [
    "### `desc`\n",
    "\n",
    "\n",
    "\n"
   ]
  },
  {
   "cell_type": "code",
   "execution_count": 74,
   "metadata": {
    "colab": {
     "base_uri": "https://localhost:8080/",
     "height": 35
    },
    "id": "PvqqrR-X9QX1",
    "outputId": "19d1977b-a23e-4936-b3d2-bf2af77307a4",
    "tags": []
   },
   "outputs": [
    {
     "data": {
      "text/plain": [
       "' desc column have 7 null values. 7 rows are 0.0662% of the total rows of products table '"
      ]
     },
     "execution_count": 74,
     "metadata": {},
     "output_type": "execute_result"
    }
   ],
   "source": [
    "perc_desc_na = products.desc.isna().sum() * 100.0 / products.shape[0]\n",
    "f\" desc column have 7 null values. 7 rows are {perc_desc_na.round(4)}% of the total rows of products table \""
   ]
  },
  {
   "cell_type": "code",
   "execution_count": 75,
   "metadata": {
    "tags": []
   },
   "outputs": [
    {
     "data": {
      "text/plain": [
       "15"
      ]
     },
     "metadata": {},
     "output_type": "display_data"
    },
    {
     "data": {
      "text/plain": [
       "11"
      ]
     },
     "metadata": {},
     "output_type": "display_data"
    }
   ],
   "source": [
    "# list of skus for desc have null values\n",
    "na_desc_sku_list = list(products.loc[products.desc.isna()]['sku'])\n",
    "\n",
    "# list of order_id for above skus\n",
    "na_desc_order_id = list(orderlines[orderlines.sku.isin(na_desc_sku_list)]['order_id'])\n",
    "\n",
    "# no of orderlines for na desc   -- 15\n",
    "display(orderlines[orderlines.order_id.isin(na_desc_order_id)]['order_id'].count())\n",
    "\n",
    "# no of orderlines for na desc   -- 11\n",
    "display(orderlines[orderlines.order_id.isin(na_desc_order_id)]['order_id'].nunique())"
   ]
  },
  {
   "cell_type": "markdown",
   "metadata": {},
   "source": [
    "The amonut of missing value in `desc`is not much significant in compare to total data, however fixing it won't make any issue and it is quick. So we will fill it with one value."
   ]
  },
  {
   "cell_type": "code",
   "execution_count": 76,
   "metadata": {
    "id": "9NToIpYY_QWO",
    "tags": []
   },
   "outputs": [],
   "source": [
    "# fill with values\n",
    "products['desc'] = products.desc.fillna(\"no product description\")"
   ]
  },
  {
   "cell_type": "code",
   "execution_count": 77,
   "metadata": {
    "id": "_g7khfKJ-8Ot",
    "tags": []
   },
   "outputs": [],
   "source": [
    "# if decide to drop : drop rows\n",
    "# products = products.loc[~products.desc.isna()]"
   ]
  },
  {
   "cell_type": "code",
   "execution_count": 78,
   "metadata": {
    "colab": {
     "base_uri": "https://localhost:8080/"
    },
    "id": "2iNLa-M2_WeI",
    "outputId": "501c0d8c-aa79-4778-ada9-163089feb3d8",
    "tags": []
   },
   "outputs": [
    {
     "data": {
      "text/plain": [
       "0"
      ]
     },
     "execution_count": 78,
     "metadata": {},
     "output_type": "execute_result"
    }
   ],
   "source": [
    "products.desc.isna().sum()"
   ]
  },
  {
   "cell_type": "markdown",
   "metadata": {
    "id": "hQJ-X-Gn85W8"
   },
   "source": [
    "### `price`\n",
    "\n"
   ]
  },
  {
   "cell_type": "code",
   "execution_count": 79,
   "metadata": {
    "colab": {
     "base_uri": "https://localhost:8080/",
     "height": 35
    },
    "id": "nFGxcBVq_aVh",
    "outputId": "3682a650-38ff-4c89-d76e-07a80fd62a56",
    "tags": []
   },
   "outputs": [
    {
     "data": {
      "text/plain": [
       "' price column have 46 null values. 46 rows are 0.4348% of the total rows of products table '"
      ]
     },
     "execution_count": 79,
     "metadata": {},
     "output_type": "execute_result"
    }
   ],
   "source": [
    "perc_price_na = products.price.isna().sum() *100/ products.shape[0]\n",
    "f\" price column have 46 null values. 46 rows are {perc_price_na.round(4)}% of the total rows of products table \""
   ]
  },
  {
   "cell_type": "markdown",
   "metadata": {
    "id": "pUJhnpaOAz2h"
   },
   "source": [
    "`price` column is crucial for analysis and therefore to ensure data quality, we will drop these rows."
   ]
  },
  {
   "cell_type": "code",
   "execution_count": 80,
   "metadata": {
    "id": "dRqE_04VBJlw",
    "tags": []
   },
   "outputs": [],
   "source": [
    "products = products.loc[~products.price.isna()]"
   ]
  },
  {
   "cell_type": "code",
   "execution_count": 81,
   "metadata": {
    "colab": {
     "base_uri": "https://localhost:8080/"
    },
    "id": "JLEyOy02BPoh",
    "outputId": "aa8d5e42-4748-4689-84b9-a47d830a6abe",
    "tags": []
   },
   "outputs": [
    {
     "data": {
      "text/plain": [
       "sku             0\n",
       "name            0\n",
       "desc            0\n",
       "price           0\n",
       "promo_price     0\n",
       "in_stock        0\n",
       "type           50\n",
       "dtype: int64"
      ]
     },
     "execution_count": 81,
     "metadata": {},
     "output_type": "execute_result"
    }
   ],
   "source": [
    "products.isna().sum()"
   ]
  },
  {
   "cell_type": "markdown",
   "metadata": {
    "id": "IheFcA4C9JWn"
   },
   "source": [
    "### `type`"
   ]
  },
  {
   "cell_type": "code",
   "execution_count": 82,
   "metadata": {
    "colab": {
     "base_uri": "https://localhost:8080/",
     "height": 35
    },
    "id": "-S3hqXkZBYd0",
    "outputId": "413a1d2f-cf50-4103-e4f2-5b8af4fd8bce",
    "tags": []
   },
   "outputs": [
    {
     "data": {
      "text/plain": [
       "' type column have 50 null values. 50 rows are 0.4747% of the total rows of products table '"
      ]
     },
     "execution_count": 82,
     "metadata": {},
     "output_type": "execute_result"
    }
   ],
   "source": [
    "perc_type_na = products['type'].isna().sum() *100/ products.shape[0]\n",
    "f\" type column have 50 null values. 50 rows are {perc_type_na.round(4)}% of the total rows of products table \""
   ]
  },
  {
   "cell_type": "code",
   "execution_count": 83,
   "metadata": {
    "tags": []
   },
   "outputs": [
    {
     "data": {
      "text/plain": [
       "249"
      ]
     },
     "metadata": {},
     "output_type": "display_data"
    },
    {
     "data": {
      "text/plain": [
       "171"
      ]
     },
     "metadata": {},
     "output_type": "display_data"
    }
   ],
   "source": [
    "# list of skus for type have null values\n",
    "na_type_sku_list = list(products.loc[products.type.isna()]['sku'])\n",
    "\n",
    "# list of order_id for above types\n",
    "na_type_order_id = list(orderlines[orderlines.sku.isin(na_type_sku_list)]['order_id'])\n",
    "\n",
    "# no of orderlines for na type   -- 249\n",
    "display(orderlines[orderlines.order_id.isin(na_type_order_id)]['order_id'].count())\n",
    "\n",
    "# no of orderlines for na type   -- 171\n",
    "display(orderlines[orderlines.order_id.isin(na_type_order_id)]['order_id'].nunique())"
   ]
  },
  {
   "cell_type": "code",
   "execution_count": 84,
   "metadata": {
    "id": "8eiP8MwlCmXI",
    "tags": []
   },
   "outputs": [],
   "source": [
    "# fill with value\n",
    "products['type'] = products['type'].fillna('Unknown')"
   ]
  },
  {
   "cell_type": "code",
   "execution_count": 85,
   "metadata": {
    "tags": []
   },
   "outputs": [],
   "source": [
    "products = products.rename(columns={'type':'p_type'})"
   ]
  },
  {
   "cell_type": "code",
   "execution_count": 86,
   "metadata": {
    "colab": {
     "base_uri": "https://localhost:8080/"
    },
    "id": "hZM-72KpCu_N",
    "outputId": "4dd19d23-da16-4d89-ada3-dbfda20071f5",
    "tags": []
   },
   "outputs": [
    {
     "data": {
      "text/plain": [
       "sku            0\n",
       "name           0\n",
       "desc           0\n",
       "price          0\n",
       "promo_price    0\n",
       "in_stock       0\n",
       "p_type         0\n",
       "dtype: int64"
      ]
     },
     "execution_count": 86,
     "metadata": {},
     "output_type": "execute_result"
    }
   ],
   "source": [
    "products.isna().sum()"
   ]
  },
  {
   "cell_type": "code",
   "execution_count": 87,
   "metadata": {
    "colab": {
     "base_uri": "https://localhost:8080/"
    },
    "id": "aGiey5pTCyAK",
    "outputId": "dda0a6a5-6813-4e38-f75f-83f9f9567286",
    "tags": []
   },
   "outputs": [
    {
     "data": {
      "text/plain": [
       "(10534, 7)"
      ]
     },
     "execution_count": 87,
     "metadata": {},
     "output_type": "execute_result"
    }
   ],
   "source": [
    "products.shape"
   ]
  },
  {
   "cell_type": "markdown",
   "metadata": {
    "id": "6Z7nI4ZlC4bo"
   },
   "source": [
    "## Data type & Format"
   ]
  },
  {
   "cell_type": "code",
   "execution_count": 88,
   "metadata": {
    "colab": {
     "base_uri": "https://localhost:8080/"
    },
    "id": "FqO1SpWYDAIV",
    "outputId": "a0c760b2-c678-4aeb-f69e-a047db3b2d35",
    "tags": []
   },
   "outputs": [
    {
     "data": {
      "text/plain": [
       "sku            object\n",
       "name           object\n",
       "desc           object\n",
       "price          object\n",
       "promo_price    object\n",
       "in_stock        int64\n",
       "p_type         object\n",
       "dtype: object"
      ]
     },
     "execution_count": 88,
     "metadata": {},
     "output_type": "execute_result"
    }
   ],
   "source": [
    "products.dtypes"
   ]
  },
  {
   "cell_type": "markdown",
   "metadata": {
    "id": "nUbDjOSdDELr"
   },
   "source": [
    "### `in_stock`"
   ]
  },
  {
   "cell_type": "code",
   "execution_count": 89,
   "metadata": {
    "tags": []
   },
   "outputs": [
    {
     "data": {
      "text/plain": [
       "array([1, 0])"
      ]
     },
     "execution_count": 89,
     "metadata": {},
     "output_type": "execute_result"
    }
   ],
   "source": [
    "products['in_stock'].unique()"
   ]
  },
  {
   "cell_type": "code",
   "execution_count": 90,
   "metadata": {
    "colab": {
     "base_uri": "https://localhost:8080/"
    },
    "id": "TcfTVMKNDInR",
    "outputId": "93e047b5-4fcd-44a2-8761-703c27830766",
    "tags": []
   },
   "outputs": [],
   "source": [
    "products['in_stock'] = products.in_stock.astype(bool)"
   ]
  },
  {
   "cell_type": "code",
   "execution_count": 91,
   "metadata": {
    "colab": {
     "base_uri": "https://localhost:8080/"
    },
    "id": "GqvIh96RDcAY",
    "outputId": "c4082ec8-c18a-4a0c-f424-4fd8eabc5003",
    "tags": []
   },
   "outputs": [
    {
     "data": {
      "text/plain": [
       "sku            object\n",
       "name           object\n",
       "desc           object\n",
       "price          object\n",
       "promo_price    object\n",
       "in_stock         bool\n",
       "p_type         object\n",
       "dtype: object"
      ]
     },
     "execution_count": 91,
     "metadata": {},
     "output_type": "execute_result"
    }
   ],
   "source": [
    "products.dtypes"
   ]
  },
  {
   "cell_type": "markdown",
   "metadata": {
    "id": "sBzu81z5DnJL"
   },
   "source": [
    "### `price`"
   ]
  },
  {
   "cell_type": "markdown",
   "metadata": {},
   "source": [
    "There are two issues with values in `price`column. Let's have a look."
   ]
  },
  {
   "cell_type": "code",
   "execution_count": 92,
   "metadata": {
    "colab": {
     "base_uri": "https://localhost:8080/"
    },
    "id": "YxUL3A-6IFbR",
    "outputId": "53ade6ad-4f3b-4784-bb2f-9e1af30b5669",
    "tags": []
   },
   "outputs": [
    {
     "data": {
      "text/plain": [
       "False    10157\n",
       "True       377\n",
       "Name: price, dtype: int64"
      ]
     },
     "execution_count": 92,
     "metadata": {},
     "output_type": "execute_result"
    }
   ],
   "source": [
    "two_decimal_price = products.price.str.contains('\\d+\\.\\d+\\.\\d+')\n",
    "two_decimal_price.value_counts()"
   ]
  },
  {
   "cell_type": "code",
   "execution_count": 93,
   "metadata": {
    "colab": {
     "base_uri": "https://localhost:8080/"
    },
    "id": "hulm25R2IYmE",
    "outputId": "02037ed1-2bf8-4179-e5ac-21234ea26f66",
    "tags": []
   },
   "outputs": [
    {
     "data": {
      "text/plain": [
       "False    9992\n",
       "True      542\n",
       "Name: price, dtype: int64"
      ]
     },
     "execution_count": 93,
     "metadata": {},
     "output_type": "execute_result"
    }
   ],
   "source": [
    "three_n_after_decimal_price = products.price.str.contains('\\d+\\.\\d{3,}')\n",
    "three_n_after_decimal_price.value_counts()"
   ]
  },
  {
   "cell_type": "markdown",
   "metadata": {
    "id": "iRViW5cnP2EE"
   },
   "source": [
    "Let's have a quick investigate to check that's correct. We'll make a DataFrame and then look at a sample to check that all the numbers in the `price` column really have either 2 decimal points or 3 decimal places."
   ]
  },
  {
   "cell_type": "code",
   "execution_count": 94,
   "metadata": {
    "colab": {
     "base_uri": "https://localhost:8080/",
     "height": 580
    },
    "id": "fRAtmVP4TkRj",
    "outputId": "493a0399-c937-4f86-9a6f-c880ff596f91",
    "tags": []
   },
   "outputs": [
    {
     "data": {
      "text/html": [
       "<div>\n",
       "<style scoped>\n",
       "    .dataframe tbody tr th:only-of-type {\n",
       "        vertical-align: middle;\n",
       "    }\n",
       "\n",
       "    .dataframe tbody tr th {\n",
       "        vertical-align: top;\n",
       "    }\n",
       "\n",
       "    .dataframe thead th {\n",
       "        text-align: right;\n",
       "    }\n",
       "</style>\n",
       "<table border=\"1\" class=\"dataframe\">\n",
       "  <thead>\n",
       "    <tr style=\"text-align: right;\">\n",
       "      <th></th>\n",
       "      <th>sku</th>\n",
       "      <th>name</th>\n",
       "      <th>desc</th>\n",
       "      <th>price</th>\n",
       "      <th>promo_price</th>\n",
       "      <th>in_stock</th>\n",
       "      <th>p_type</th>\n",
       "    </tr>\n",
       "  </thead>\n",
       "  <tbody>\n",
       "    <tr>\n",
       "      <th>17489</th>\n",
       "      <td>APP2491</td>\n",
       "      <td>Apple iPhone X 256GB Space Gray</td>\n",
       "      <td>New Apple iPhone X 256GB Free Space Gray</td>\n",
       "      <td>13.290.011</td>\n",
       "      <td>13.290.011</td>\n",
       "      <td>True</td>\n",
       "      <td>113271716</td>\n",
       "    </tr>\n",
       "    <tr>\n",
       "      <th>18926</th>\n",
       "      <td>BEL0302-A</td>\n",
       "      <td>Open - Belkin Audio Adapter (Lightning Charge ...</td>\n",
       "      <td>Refurbished Audio Adapter 35 mm + loaded with ...</td>\n",
       "      <td>349.932</td>\n",
       "      <td>294.604</td>\n",
       "      <td>False</td>\n",
       "      <td>14365395</td>\n",
       "    </tr>\n",
       "    <tr>\n",
       "      <th>885</th>\n",
       "      <td>PAC0376</td>\n",
       "      <td>OWC Mercury Elite Pro Dual Thunderbolt + 8TB</td>\n",
       "      <td>RAID outer box 35 inch SATA connection Thunder...</td>\n",
       "      <td>5.609.698</td>\n",
       "      <td>5.549.895</td>\n",
       "      <td>False</td>\n",
       "      <td>11935397</td>\n",
       "    </tr>\n",
       "    <tr>\n",
       "      <th>1949</th>\n",
       "      <td>PAC0703</td>\n",
       "      <td>Kingston V300 SSD expansion kit 240GB + 8GB RA...</td>\n",
       "      <td>SSD upgrade kit 240GB + 8GB RAM 1066Mhz + Data...</td>\n",
       "      <td>292.958</td>\n",
       "      <td>2.575.848</td>\n",
       "      <td>False</td>\n",
       "      <td>1433</td>\n",
       "    </tr>\n",
       "    <tr>\n",
       "      <th>18838</th>\n",
       "      <td>CAL0010</td>\n",
       "      <td>Station 3 Caldigit Thunderbolt Thunderbolt out...</td>\n",
       "      <td>Thunderbolt external box 3 to magnify your tea...</td>\n",
       "      <td>2.999.905</td>\n",
       "      <td>2.999.905</td>\n",
       "      <td>True</td>\n",
       "      <td>Unknown</td>\n",
       "    </tr>\n",
       "    <tr>\n",
       "      <th>15353</th>\n",
       "      <td>REP0309</td>\n",
       "      <td>Microphone Repair iPhone 6 Plus</td>\n",
       "      <td>Repair service including parts and labor for i...</td>\n",
       "      <td>599.906</td>\n",
       "      <td>599.906</td>\n",
       "      <td>False</td>\n",
       "      <td>1,44E+11</td>\n",
       "    </tr>\n",
       "    <tr>\n",
       "      <th>18833</th>\n",
       "      <td>TRA0044-A</td>\n",
       "      <td>Open - Transcend JetDrive PCIe SSD 820 M13-M15...</td>\n",
       "      <td>Kit 960GB SSD expansion refitted for Macbook P...</td>\n",
       "      <td>7.109.004</td>\n",
       "      <td>5.977.884</td>\n",
       "      <td>False</td>\n",
       "      <td>12215397</td>\n",
       "    </tr>\n",
       "    <tr>\n",
       "      <th>16837</th>\n",
       "      <td>APP2311</td>\n",
       "      <td>Apple MacBook Pro 13 \"Core i5 Touch Bar 31GHz ...</td>\n",
       "      <td>New MacBook Pro 13-inch Core i5 Touch Bar 31 G...</td>\n",
       "      <td>32.455.951</td>\n",
       "      <td>32.455.951</td>\n",
       "      <td>False</td>\n",
       "      <td>1,02E+12</td>\n",
       "    </tr>\n",
       "    <tr>\n",
       "      <th>19287</th>\n",
       "      <td>REP0410</td>\n",
       "      <td>repair rear camera plus iPhone 6s</td>\n",
       "      <td>Repair service including parts and labor for i...</td>\n",
       "      <td>6.999.003</td>\n",
       "      <td>69.99</td>\n",
       "      <td>False</td>\n",
       "      <td>1,44E+11</td>\n",
       "    </tr>\n",
       "    <tr>\n",
       "      <th>13181</th>\n",
       "      <td>PAC1510</td>\n",
       "      <td>QNAP TS-251A 8GB RAM NAS</td>\n",
       "      <td>NAS with 8GB of RAM and USB port for direct ac...</td>\n",
       "      <td>4.156.689</td>\n",
       "      <td>3.979.896</td>\n",
       "      <td>False</td>\n",
       "      <td>12175397</td>\n",
       "    </tr>\n",
       "  </tbody>\n",
       "</table>\n",
       "</div>"
      ],
      "text/plain": [
       "             sku                                               name  \\\n",
       "17489    APP2491                    Apple iPhone X 256GB Space Gray   \n",
       "18926  BEL0302-A  Open - Belkin Audio Adapter (Lightning Charge ...   \n",
       "885      PAC0376       OWC Mercury Elite Pro Dual Thunderbolt + 8TB   \n",
       "1949     PAC0703  Kingston V300 SSD expansion kit 240GB + 8GB RA...   \n",
       "18838    CAL0010  Station 3 Caldigit Thunderbolt Thunderbolt out...   \n",
       "15353    REP0309                    Microphone Repair iPhone 6 Plus   \n",
       "18833  TRA0044-A  Open - Transcend JetDrive PCIe SSD 820 M13-M15...   \n",
       "16837    APP2311  Apple MacBook Pro 13 \"Core i5 Touch Bar 31GHz ...   \n",
       "19287    REP0410                  repair rear camera plus iPhone 6s   \n",
       "13181    PAC1510                           QNAP TS-251A 8GB RAM NAS   \n",
       "\n",
       "                                                    desc       price  \\\n",
       "17489           New Apple iPhone X 256GB Free Space Gray  13.290.011   \n",
       "18926  Refurbished Audio Adapter 35 mm + loaded with ...     349.932   \n",
       "885    RAID outer box 35 inch SATA connection Thunder...   5.609.698   \n",
       "1949   SSD upgrade kit 240GB + 8GB RAM 1066Mhz + Data...     292.958   \n",
       "18838  Thunderbolt external box 3 to magnify your tea...   2.999.905   \n",
       "15353  Repair service including parts and labor for i...     599.906   \n",
       "18833  Kit 960GB SSD expansion refitted for Macbook P...   7.109.004   \n",
       "16837  New MacBook Pro 13-inch Core i5 Touch Bar 31 G...  32.455.951   \n",
       "19287  Repair service including parts and labor for i...   6.999.003   \n",
       "13181  NAS with 8GB of RAM and USB port for direct ac...   4.156.689   \n",
       "\n",
       "      promo_price  in_stock     p_type  \n",
       "17489  13.290.011      True  113271716  \n",
       "18926     294.604     False   14365395  \n",
       "885     5.549.895     False   11935397  \n",
       "1949    2.575.848     False       1433  \n",
       "18838   2.999.905      True    Unknown  \n",
       "15353     599.906     False   1,44E+11  \n",
       "18833   5.977.884     False   12215397  \n",
       "16837  32.455.951     False   1,02E+12  \n",
       "19287       69.99     False   1,44E+11  \n",
       "13181   3.979.896     False   12175397  "
      ]
     },
     "execution_count": 94,
     "metadata": {},
     "output_type": "execute_result"
    }
   ],
   "source": [
    "price_problem = products.loc[ (two_decimal_price )|(three_n_after_decimal_price)]\n",
    "price_problem.sample(10)"
   ]
  },
  {
   "cell_type": "code",
   "execution_count": 95,
   "metadata": {
    "tags": []
   },
   "outputs": [
    {
     "data": {
      "text/plain": [
       "542"
      ]
     },
     "execution_count": 95,
     "metadata": {},
     "output_type": "execute_result"
    }
   ],
   "source": [
    "price_problem.price.count()"
   ]
  },
  {
   "cell_type": "code",
   "execution_count": 96,
   "metadata": {
    "colab": {
     "base_uri": "https://localhost:8080/",
     "height": 35
    },
    "id": "ZFdB00JUGtlf",
    "outputId": "c4859a76-5357-4259-a870-20fb37ed415d",
    "tags": []
   },
   "outputs": [
    {
     "data": {
      "text/plain": [
       "'542 rows are 5.1452% of total rows.'"
      ]
     },
     "execution_count": 96,
     "metadata": {},
     "output_type": "execute_result"
    }
   ],
   "source": [
    "price_problem_perc = price_problem.price.count()*100.0/products.shape[0]\n",
    "f\"542 rows are {price_problem_perc.round(4)}% of total rows.\""
   ]
  },
  {
   "cell_type": "markdown",
   "metadata": {
    "id": "BWHd3gjmG8ql"
   },
   "source": [
    "5.13% is a reasonable amount of our data. However, the price column will be important to understanding discounts, and we should be very trustworthy as we are basing business decisions on it. Therefore, we'll delete these rows."
   ]
  },
  {
   "cell_type": "code",
   "execution_count": 97,
   "metadata": {
    "id": "LvFpbTP56Pdz",
    "tags": []
   },
   "outputs": [],
   "source": [
    "products = products.loc[~((two_decimal_price)|(three_n_after_decimal_price))]"
   ]
  },
  {
   "cell_type": "code",
   "execution_count": 98,
   "metadata": {
    "colab": {
     "base_uri": "https://localhost:8080/",
     "height": 49
    },
    "id": "bIRKgj-oJFD3",
    "outputId": "c00fe892-4051-466b-8476-e3d821e4d8d4",
    "tags": []
   },
   "outputs": [
    {
     "data": {
      "text/html": [
       "<div>\n",
       "<style scoped>\n",
       "    .dataframe tbody tr th:only-of-type {\n",
       "        vertical-align: middle;\n",
       "    }\n",
       "\n",
       "    .dataframe tbody tr th {\n",
       "        vertical-align: top;\n",
       "    }\n",
       "\n",
       "    .dataframe thead th {\n",
       "        text-align: right;\n",
       "    }\n",
       "</style>\n",
       "<table border=\"1\" class=\"dataframe\">\n",
       "  <thead>\n",
       "    <tr style=\"text-align: right;\">\n",
       "      <th></th>\n",
       "      <th>sku</th>\n",
       "      <th>name</th>\n",
       "      <th>desc</th>\n",
       "      <th>price</th>\n",
       "      <th>promo_price</th>\n",
       "      <th>in_stock</th>\n",
       "      <th>p_type</th>\n",
       "    </tr>\n",
       "  </thead>\n",
       "  <tbody>\n",
       "  </tbody>\n",
       "</table>\n",
       "</div>"
      ],
      "text/plain": [
       "Empty DataFrame\n",
       "Columns: [sku, name, desc, price, promo_price, in_stock, p_type]\n",
       "Index: []"
      ]
     },
     "execution_count": 98,
     "metadata": {},
     "output_type": "execute_result"
    }
   ],
   "source": [
    "products.loc[ (two_decimal_price )|(three_n_after_decimal_price)]"
   ]
  },
  {
   "cell_type": "markdown",
   "metadata": {
    "id": "1WG0_FMDQl4p"
   },
   "source": [
    "Let's finally convert the column to a numeric datatype"
   ]
  },
  {
   "cell_type": "code",
   "execution_count": 99,
   "metadata": {
    "colab": {
     "base_uri": "https://localhost:8080/"
    },
    "id": "XJ8CKWhuQegB",
    "outputId": "8b040151-2d9c-4d10-ca48-8acdffb53b37",
    "tags": []
   },
   "outputs": [],
   "source": [
    "products[\"price\"] = pd.to_numeric(products[\"price\"])"
   ]
  },
  {
   "cell_type": "code",
   "execution_count": 100,
   "metadata": {
    "colab": {
     "base_uri": "https://localhost:8080/"
    },
    "id": "esTJCU6FQh3H",
    "outputId": "094a8044-4e70-4e41-e9c2-9b1251ce54de",
    "tags": []
   },
   "outputs": [
    {
     "name": "stdout",
     "output_type": "stream",
     "text": [
      "<class 'pandas.core.frame.DataFrame'>\n",
      "Int64Index: 9992 entries, 0 to 19325\n",
      "Data columns (total 7 columns):\n",
      " #   Column       Non-Null Count  Dtype  \n",
      "---  ------       --------------  -----  \n",
      " 0   sku          9992 non-null   object \n",
      " 1   name         9992 non-null   object \n",
      " 2   desc         9992 non-null   object \n",
      " 3   price        9992 non-null   float64\n",
      " 4   promo_price  9992 non-null   object \n",
      " 5   in_stock     9992 non-null   bool   \n",
      " 6   p_type       9992 non-null   object \n",
      "dtypes: bool(1), float64(1), object(5)\n",
      "memory usage: 556.2+ KB\n"
     ]
    }
   ],
   "source": [
    "products.info()"
   ]
  },
  {
   "cell_type": "markdown",
   "metadata": {
    "id": "7AxUHgrHNaM3"
   },
   "source": [
    "### `promo_price`"
   ]
  },
  {
   "cell_type": "code",
   "execution_count": 101,
   "metadata": {
    "colab": {
     "base_uri": "https://localhost:8080/"
    },
    "id": "qqvjOhkTNe1k",
    "outputId": "6e67170c-6fff-472d-ce97-c2ea44aef939",
    "tags": []
   },
   "outputs": [
    {
     "data": {
      "text/plain": [
       "False    5685\n",
       "True     4307\n",
       "Name: promo_price, dtype: int64"
      ]
     },
     "execution_count": 101,
     "metadata": {},
     "output_type": "execute_result"
    }
   ],
   "source": [
    "two_decimal_promo_price = products.promo_price.str.contains('\\d+\\.\\d+\\.\\d+')\n",
    "two_decimal_promo_price.value_counts()"
   ]
  },
  {
   "cell_type": "code",
   "execution_count": 102,
   "metadata": {
    "colab": {
     "base_uri": "https://localhost:8080/"
    },
    "id": "7ULAoufwNr6a",
    "outputId": "b816b8de-0a3d-4921-d7be-db50796487cf",
    "tags": []
   },
   "outputs": [
    {
     "data": {
      "text/plain": [
       "True     9232\n",
       "False     760\n",
       "Name: promo_price, dtype: int64"
      ]
     },
     "execution_count": 102,
     "metadata": {},
     "output_type": "execute_result"
    }
   ],
   "source": [
    "three_n_after_decimal_promo_price = products.promo_price.str.contains('\\d+\\.\\d{3,}')\n",
    "three_n_after_decimal_promo_price.value_counts()"
   ]
  },
  {
   "cell_type": "markdown",
   "metadata": {
    "id": "S__QIclVPc-6"
   },
   "source": [
    "Let's have a quick investigate to check that's correct. We'll make a DataFrame and then look at a sample to check that all the numbers in the `promo_price` column really have either 2 decimal points or 3 decimal places."
   ]
  },
  {
   "cell_type": "code",
   "execution_count": 104,
   "metadata": {
    "colab": {
     "base_uri": "https://localhost:8080/",
     "height": 1000
    },
    "id": "eswLa551N-mO",
    "outputId": "775b5986-2a6e-4530-aa5c-d66f73744a40",
    "tags": []
   },
   "outputs": [
    {
     "data": {
      "text/html": [
       "<div>\n",
       "<style scoped>\n",
       "    .dataframe tbody tr th:only-of-type {\n",
       "        vertical-align: middle;\n",
       "    }\n",
       "\n",
       "    .dataframe tbody tr th {\n",
       "        vertical-align: top;\n",
       "    }\n",
       "\n",
       "    .dataframe thead th {\n",
       "        text-align: right;\n",
       "    }\n",
       "</style>\n",
       "<table border=\"1\" class=\"dataframe\">\n",
       "  <thead>\n",
       "    <tr style=\"text-align: right;\">\n",
       "      <th></th>\n",
       "      <th>sku</th>\n",
       "      <th>name</th>\n",
       "      <th>desc</th>\n",
       "      <th>price</th>\n",
       "      <th>promo_price</th>\n",
       "      <th>in_stock</th>\n",
       "      <th>p_type</th>\n",
       "    </tr>\n",
       "  </thead>\n",
       "  <tbody>\n",
       "    <tr>\n",
       "      <th>18632</th>\n",
       "      <td>STM0105</td>\n",
       "      <td>STM Studio Case iPad Air / Air 2 / Pro 97 \"/ 2...</td>\n",
       "      <td>STM Studio resistant cover with magnetic closu...</td>\n",
       "      <td>39.95</td>\n",
       "      <td>349.896</td>\n",
       "      <td>False</td>\n",
       "      <td>12635403</td>\n",
       "    </tr>\n",
       "    <tr>\n",
       "      <th>18494</th>\n",
       "      <td>LIF0154</td>\n",
       "      <td>LifeProof nüüd iPhone 6s Black Waterproof Case</td>\n",
       "      <td>waterproof case (submersible 2m) 360 degree pr...</td>\n",
       "      <td>89.99</td>\n",
       "      <td>329.894</td>\n",
       "      <td>True</td>\n",
       "      <td>11865403</td>\n",
       "    </tr>\n",
       "    <tr>\n",
       "      <th>13692</th>\n",
       "      <td>KEU0002-A</td>\n",
       "      <td>(Open) Kenu Airframe Car Support iPhone 6 / 6S...</td>\n",
       "      <td>portable stand weighs less than 30 grams and c...</td>\n",
       "      <td>19.95</td>\n",
       "      <td>14.278</td>\n",
       "      <td>False</td>\n",
       "      <td>1298</td>\n",
       "    </tr>\n",
       "    <tr>\n",
       "      <th>11557</th>\n",
       "      <td>PAC1268</td>\n",
       "      <td>Pack QNAP TS-251 | 4GB RAM | 6TB Seagate Desktop</td>\n",
       "      <td>Pack QNAP TS-251 with 4GB RAM + 6TB (2x3TB) Se...</td>\n",
       "      <td>622.00</td>\n",
       "      <td>4.729.902</td>\n",
       "      <td>False</td>\n",
       "      <td>12175397</td>\n",
       "    </tr>\n",
       "    <tr>\n",
       "      <th>12745</th>\n",
       "      <td>IFX0098</td>\n",
       "      <td>iFixit iPhone screen test piece Cable 5S</td>\n",
       "      <td>Cable test function front panel LCD / Digital ...</td>\n",
       "      <td>14.95</td>\n",
       "      <td>119.899</td>\n",
       "      <td>False</td>\n",
       "      <td>21485407</td>\n",
       "    </tr>\n",
       "    <tr>\n",
       "      <th>13787</th>\n",
       "      <td>DLL0006-A</td>\n",
       "      <td>(Open) Dell U2414H Monitor 238 \"IPS Marco Slim</td>\n",
       "      <td>238 inch IPS Monitor Marco Slim.</td>\n",
       "      <td>279.99</td>\n",
       "      <td>2.159.596</td>\n",
       "      <td>False</td>\n",
       "      <td>1298</td>\n",
       "    </tr>\n",
       "    <tr>\n",
       "      <th>15927</th>\n",
       "      <td>PAC2050</td>\n",
       "      <td>Second hand - Apple Mac mini Core 2 Duo | 4GB ...</td>\n",
       "      <td>Computer Core i5 Mac mini reconditioned | 4GB ...</td>\n",
       "      <td>699.00</td>\n",
       "      <td>4.555.944</td>\n",
       "      <td>False</td>\n",
       "      <td>5,44E+11</td>\n",
       "    </tr>\n",
       "    <tr>\n",
       "      <th>12771</th>\n",
       "      <td>IFX0112</td>\n",
       "      <td>iFixit Piece volume button iPhone 5 White</td>\n",
       "      <td>Plastic piece Volume button iPhone 5</td>\n",
       "      <td>5.99</td>\n",
       "      <td>56.906</td>\n",
       "      <td>True</td>\n",
       "      <td>21485407</td>\n",
       "    </tr>\n",
       "    <tr>\n",
       "      <th>2939</th>\n",
       "      <td>WDT0276</td>\n",
       "      <td>Western Digital My Passport Ultra 1TB Hard Dri...</td>\n",
       "      <td>WD External Hard Drive Mac and PC USB 3.0 1TB.</td>\n",
       "      <td>84.90</td>\n",
       "      <td>639.896</td>\n",
       "      <td>False</td>\n",
       "      <td>11935397</td>\n",
       "    </tr>\n",
       "    <tr>\n",
       "      <th>2713</th>\n",
       "      <td>TUC0208</td>\n",
       "      <td>Tucano Elements Second Skin MacBook Sleeve 12 ...</td>\n",
       "      <td>velvety inner protective case for MacBook 12 i...</td>\n",
       "      <td>24.99</td>\n",
       "      <td>179.903</td>\n",
       "      <td>False</td>\n",
       "      <td>13835403</td>\n",
       "    </tr>\n",
       "  </tbody>\n",
       "</table>\n",
       "</div>"
      ],
      "text/plain": [
       "             sku                                               name  \\\n",
       "18632    STM0105  STM Studio Case iPad Air / Air 2 / Pro 97 \"/ 2...   \n",
       "18494    LIF0154     LifeProof nüüd iPhone 6s Black Waterproof Case   \n",
       "13692  KEU0002-A  (Open) Kenu Airframe Car Support iPhone 6 / 6S...   \n",
       "11557    PAC1268   Pack QNAP TS-251 | 4GB RAM | 6TB Seagate Desktop   \n",
       "12745    IFX0098           iFixit iPhone screen test piece Cable 5S   \n",
       "13787  DLL0006-A     (Open) Dell U2414H Monitor 238 \"IPS Marco Slim   \n",
       "15927    PAC2050  Second hand - Apple Mac mini Core 2 Duo | 4GB ...   \n",
       "12771    IFX0112          iFixit Piece volume button iPhone 5 White   \n",
       "2939     WDT0276  Western Digital My Passport Ultra 1TB Hard Dri...   \n",
       "2713     TUC0208  Tucano Elements Second Skin MacBook Sleeve 12 ...   \n",
       "\n",
       "                                                    desc   price promo_price  \\\n",
       "18632  STM Studio resistant cover with magnetic closu...   39.95     349.896   \n",
       "18494  waterproof case (submersible 2m) 360 degree pr...   89.99     329.894   \n",
       "13692  portable stand weighs less than 30 grams and c...   19.95      14.278   \n",
       "11557  Pack QNAP TS-251 with 4GB RAM + 6TB (2x3TB) Se...  622.00   4.729.902   \n",
       "12745  Cable test function front panel LCD / Digital ...   14.95     119.899   \n",
       "13787                   238 inch IPS Monitor Marco Slim.  279.99   2.159.596   \n",
       "15927  Computer Core i5 Mac mini reconditioned | 4GB ...  699.00   4.555.944   \n",
       "12771               Plastic piece Volume button iPhone 5    5.99      56.906   \n",
       "2939      WD External Hard Drive Mac and PC USB 3.0 1TB.   84.90     639.896   \n",
       "2713   velvety inner protective case for MacBook 12 i...   24.99     179.903   \n",
       "\n",
       "       in_stock    p_type  \n",
       "18632     False  12635403  \n",
       "18494      True  11865403  \n",
       "13692     False      1298  \n",
       "11557     False  12175397  \n",
       "12745     False  21485407  \n",
       "13787     False      1298  \n",
       "15927     False  5,44E+11  \n",
       "12771      True  21485407  \n",
       "2939      False  11935397  \n",
       "2713      False  13835403  "
      ]
     },
     "execution_count": 104,
     "metadata": {},
     "output_type": "execute_result"
    }
   ],
   "source": [
    "promo_price_problem = products.loc[ (two_decimal_promo_price )|(three_n_after_decimal_promo_price)]\n",
    "promo_price_problem.sample(10)"
   ]
  },
  {
   "cell_type": "code",
   "execution_count": 105,
   "metadata": {
    "tags": []
   },
   "outputs": [
    {
     "data": {
      "text/plain": [
       "9232"
      ]
     },
     "execution_count": 105,
     "metadata": {},
     "output_type": "execute_result"
    }
   ],
   "source": [
    "promo_price_problem.price.count()"
   ]
  },
  {
   "cell_type": "code",
   "execution_count": 106,
   "metadata": {
    "colab": {
     "base_uri": "https://localhost:8080/",
     "height": 35
    },
    "id": "uuMzeMQOOPjV",
    "outputId": "d3569cb0-328f-4230-d542-d888d88d3680",
    "tags": []
   },
   "outputs": [
    {
     "data": {
      "text/plain": [
       "'9232 rows are 92.3939% of total rows.'"
      ]
     },
     "execution_count": 106,
     "metadata": {},
     "output_type": "execute_result"
    }
   ],
   "source": [
    "promo_price_problem_perc = promo_price_problem.price.count()*100.0/products.shape[0]\n",
    "f\"{promo_price_problem.price.count()} rows are {promo_price_problem_perc.round(4)}% of total rows.\""
   ]
  },
  {
   "cell_type": "markdown",
   "metadata": {
    "id": "OJyZfQfEOnFi"
   },
   "source": [
    "That's a lot of wrong data. Over 90% of the data in this column is corrupt. There's no point deleting all of these rows, then we would barely have a products table. Instead, as it's only this column that appears to be very untrustworthy, we will delete the column."
   ]
  },
  {
   "cell_type": "code",
   "execution_count": 107,
   "metadata": {
    "id": "BRf5ui4SO6S7",
    "tags": []
   },
   "outputs": [],
   "source": [
    "products = products.drop(columns=[\"promo_price\"])"
   ]
  },
  {
   "cell_type": "code",
   "execution_count": 108,
   "metadata": {
    "colab": {
     "base_uri": "https://localhost:8080/"
    },
    "id": "9K3g1ABQQPDQ",
    "outputId": "d4971067-a2f9-4fbe-cee1-269f3c336ec6",
    "tags": []
   },
   "outputs": [
    {
     "name": "stdout",
     "output_type": "stream",
     "text": [
      "<class 'pandas.core.frame.DataFrame'>\n",
      "Int64Index: 9992 entries, 0 to 19325\n",
      "Data columns (total 6 columns):\n",
      " #   Column    Non-Null Count  Dtype  \n",
      "---  ------    --------------  -----  \n",
      " 0   sku       9992 non-null   object \n",
      " 1   name      9992 non-null   object \n",
      " 2   desc      9992 non-null   object \n",
      " 3   price     9992 non-null   float64\n",
      " 4   in_stock  9992 non-null   bool   \n",
      " 5   p_type    9992 non-null   object \n",
      "dtypes: bool(1), float64(1), object(4)\n",
      "memory usage: 478.1+ KB\n"
     ]
    }
   ],
   "source": [
    "products.info()"
   ]
  },
  {
   "cell_type": "markdown",
   "metadata": {
    "id": "nF73vtiNQ4ec"
   },
   "source": [
    "## Export cleaned file as csv file"
   ]
  },
  {
   "cell_type": "code",
   "execution_count": 109,
   "metadata": {
    "id": "J92zDpe7RAn4",
    "tags": []
   },
   "outputs": [],
   "source": [
    "# code for working in colab\n",
    "# from google.colab import files\n",
    "\n",
    "# products.to_csv(\"products_cl.csv\", index=False)\n",
    "# files.download(\"products_cl.csv\")"
   ]
  },
  {
   "cell_type": "code",
   "execution_count": 110,
   "metadata": {
    "tags": []
   },
   "outputs": [],
   "source": [
    "# code for working locally - jupyter notebook\n",
    "# products.to_csv('clean_data/products_cl.csv',index=False)"
   ]
  },
  {
   "cell_type": "markdown",
   "metadata": {
    "id": "SsxnQwOWZnAw"
   },
   "source": [
    "# Table 4 : Brands"
   ]
  },
  {
   "cell_type": "markdown",
   "metadata": {
    "id": "cLfoyPDiZvcd"
   },
   "source": [
    "## Import & Overview"
   ]
  },
  {
   "cell_type": "code",
   "execution_count": 111,
   "metadata": {
    "tags": []
   },
   "outputs": [],
   "source": [
    "brands_path = 'raw_data/brands.csv'\n",
    "brands = pd.read_csv(brands_path)"
   ]
  },
  {
   "cell_type": "code",
   "execution_count": 112,
   "metadata": {
    "tags": []
   },
   "outputs": [
    {
     "name": "stdout",
     "output_type": "stream",
     "text": [
      "<class 'pandas.core.frame.DataFrame'>\n",
      "RangeIndex: 187 entries, 0 to 186\n",
      "Data columns (total 2 columns):\n",
      " #   Column  Non-Null Count  Dtype \n",
      "---  ------  --------------  ----- \n",
      " 0   short   187 non-null    object\n",
      " 1   long    187 non-null    object\n",
      "dtypes: object(2)\n",
      "memory usage: 3.1+ KB\n"
     ]
    }
   ],
   "source": [
    "brands.info()"
   ]
  },
  {
   "cell_type": "code",
   "execution_count": 113,
   "metadata": {
    "tags": []
   },
   "outputs": [
    {
     "data": {
      "text/plain": [
       "(187, 2)"
      ]
     },
     "execution_count": 113,
     "metadata": {},
     "output_type": "execute_result"
    }
   ],
   "source": [
    "brands.shape"
   ]
  },
  {
   "cell_type": "markdown",
   "metadata": {},
   "source": [
    "## Duplicates"
   ]
  },
  {
   "cell_type": "code",
   "execution_count": 114,
   "metadata": {
    "tags": []
   },
   "outputs": [
    {
     "data": {
      "text/plain": [
       "0"
      ]
     },
     "execution_count": 114,
     "metadata": {},
     "output_type": "execute_result"
    }
   ],
   "source": [
    "brands.duplicated().sum()"
   ]
  },
  {
   "cell_type": "markdown",
   "metadata": {},
   "source": [
    "## Missing Values"
   ]
  },
  {
   "cell_type": "code",
   "execution_count": 115,
   "metadata": {
    "tags": []
   },
   "outputs": [
    {
     "data": {
      "text/plain": [
       "short    0\n",
       "long     0\n",
       "dtype: int64"
      ]
     },
     "execution_count": 115,
     "metadata": {},
     "output_type": "execute_result"
    }
   ],
   "source": [
    "brands.isna().sum()"
   ]
  },
  {
   "cell_type": "markdown",
   "metadata": {},
   "source": [
    "## Data types & format"
   ]
  },
  {
   "cell_type": "code",
   "execution_count": 116,
   "metadata": {
    "tags": []
   },
   "outputs": [
    {
     "data": {
      "text/plain": [
       "short    object\n",
       "long     object\n",
       "dtype: object"
      ]
     },
     "execution_count": 116,
     "metadata": {},
     "output_type": "execute_result"
    }
   ],
   "source": [
    "brands.dtypes"
   ]
  },
  {
   "cell_type": "markdown",
   "metadata": {},
   "source": [
    "Ready for next step!!!"
   ]
  }
 ],
 "metadata": {
  "colab": {
   "collapsed_sections": [
    "55_AuuQ7Se2e",
    "HU-lo4j6SnkH",
    "ke1PwQDc8W_L"
   ],
   "provenance": [],
   "toc_visible": true
  },
  "kernelspec": {
   "display_name": "Python 3 (ipykernel)",
   "language": "python",
   "name": "python3"
  },
  "language_info": {
   "codemirror_mode": {
    "name": "ipython",
    "version": 3
   },
   "file_extension": ".py",
   "mimetype": "text/x-python",
   "name": "python",
   "nbconvert_exporter": "python",
   "pygments_lexer": "ipython3",
   "version": "3.11.3"
  }
 },
 "nbformat": 4,
 "nbformat_minor": 4
}
