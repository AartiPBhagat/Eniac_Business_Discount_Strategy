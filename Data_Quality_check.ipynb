{
 "cells": [
  {
   "cell_type": "markdown",
   "id": "8e5e040d-7147-47f0-80f7-0f6db3717923",
   "metadata": {},
   "source": [
    "# Import modules & data"
   ]
  },
  {
   "cell_type": "code",
   "execution_count": 1,
   "id": "d38b4e79-3d0b-4a89-9e10-23b21855b929",
   "metadata": {
    "tags": []
   },
   "outputs": [],
   "source": [
    "import pandas as pd\n",
    "import seaborn as sns\n",
    "import numpy as np\n",
    "\n",
    "pd.set_option(\"display.precision\", 3)"
   ]
  },
  {
   "cell_type": "code",
   "execution_count": 2,
   "id": "d57afb56-bfab-4942-b4a6-814ccfc93382",
   "metadata": {
    "tags": []
   },
   "outputs": [],
   "source": [
    "# import csv files and convert to dataframes\n",
    "\n",
    "# path to data : csv files\n",
    "\n",
    "orders_path = 'clean_data/orders_cl.csv'\n",
    "orderlines_path = 'clean_data/orderlines_cl.csv'\n",
    "products_path = 'clean_data/products_cl.csv'\n",
    "brands_path = 'clean_data/brands.csv'\n",
    "\n",
    "# convert to dataframe\n",
    "\n",
    "orders_df = pd.read_csv(orders_path)\n",
    "orderlines_df = pd.read_csv(orderlines_path)\n",
    "products_df = pd.read_csv(products_path)\n",
    "brands_df = pd.read_csv(brands_path)"
   ]
  },
  {
   "cell_type": "code",
   "execution_count": 3,
   "id": "dc05c6bc-619c-40ca-8bac-fe39e1aceced",
   "metadata": {
    "tags": []
   },
   "outputs": [],
   "source": [
    "# create copy for further operations\n",
    "orders = orders_df.copy()\n",
    "orderlines = orderlines_df.copy()\n",
    "products = products_df.copy()\n",
    "brands = brands_df.copy()"
   ]
  },
  {
   "cell_type": "markdown",
   "id": "0cd67ed9-747f-456c-ae84-0ef07f5b84c2",
   "metadata": {},
   "source": [
    "# Quick Overview of all tables"
   ]
  },
  {
   "cell_type": "code",
   "execution_count": 4,
   "id": "ceb2ec19-ba73-4c47-827b-9b0c8be8c76a",
   "metadata": {
    "tags": []
   },
   "outputs": [
    {
     "name": "stdout",
     "output_type": "stream",
     "text": [
      "<class 'pandas.core.frame.DataFrame'>\n",
      "RangeIndex: 226904 entries, 0 to 226903\n",
      "Data columns (total 4 columns):\n",
      " #   Column        Non-Null Count   Dtype  \n",
      "---  ------        --------------   -----  \n",
      " 0   order_id      226904 non-null  int64  \n",
      " 1   created_date  226904 non-null  object \n",
      " 2   total_paid    226904 non-null  float64\n",
      " 3   status        226904 non-null  object \n",
      "dtypes: float64(1), int64(1), object(2)\n",
      "memory usage: 6.9+ MB\n"
     ]
    }
   ],
   "source": [
    "orders.info()"
   ]
  },
  {
   "cell_type": "code",
   "execution_count": 6,
   "id": "3b82abc4-ce65-436d-9295-4f337cec3437",
   "metadata": {
    "tags": []
   },
   "outputs": [
    {
     "name": "stdout",
     "output_type": "stream",
     "text": [
      "<class 'pandas.core.frame.DataFrame'>\n",
      "RangeIndex: 216250 entries, 0 to 216249\n",
      "Data columns (total 6 columns):\n",
      " #   Column            Non-Null Count   Dtype  \n",
      "---  ------            --------------   -----  \n",
      " 0   id                216250 non-null  int64  \n",
      " 1   order_id          216250 non-null  int64  \n",
      " 2   product_quantity  216250 non-null  int64  \n",
      " 3   sku               216250 non-null  object \n",
      " 4   unit_price        216250 non-null  float64\n",
      " 5   date              216250 non-null  object \n",
      "dtypes: float64(1), int64(3), object(2)\n",
      "memory usage: 9.9+ MB\n"
     ]
    }
   ],
   "source": [
    "orderlines.info()"
   ]
  },
  {
   "cell_type": "code",
   "execution_count": 7,
   "id": "fb2a06b9-057a-4792-bba7-3485bf85f26b",
   "metadata": {
    "tags": []
   },
   "outputs": [
    {
     "name": "stdout",
     "output_type": "stream",
     "text": [
      "<class 'pandas.core.frame.DataFrame'>\n",
      "RangeIndex: 9992 entries, 0 to 9991\n",
      "Data columns (total 6 columns):\n",
      " #   Column    Non-Null Count  Dtype  \n",
      "---  ------    --------------  -----  \n",
      " 0   sku       9992 non-null   object \n",
      " 1   name      9992 non-null   object \n",
      " 2   desc      9992 non-null   object \n",
      " 3   price     9992 non-null   float64\n",
      " 4   in_stock  9992 non-null   bool   \n",
      " 5   p_type    9992 non-null   object \n",
      "dtypes: bool(1), float64(1), object(4)\n",
      "memory usage: 400.2+ KB\n"
     ]
    }
   ],
   "source": [
    "products.info()"
   ]
  },
  {
   "cell_type": "code",
   "execution_count": 50,
   "id": "0896133e-1e79-4eeb-8068-325f27740838",
   "metadata": {
    "tags": []
   },
   "outputs": [
    {
     "name": "stdout",
     "output_type": "stream",
     "text": [
      "<class 'pandas.core.frame.DataFrame'>\n",
      "RangeIndex: 187 entries, 0 to 186\n",
      "Data columns (total 2 columns):\n",
      " #   Column  Non-Null Count  Dtype \n",
      "---  ------  --------------  ----- \n",
      " 0   short   187 non-null    object\n",
      " 1   long    187 non-null    object\n",
      "dtypes: object(2)\n",
      "memory usage: 3.1+ KB\n"
     ]
    }
   ],
   "source": [
    "brands.info()"
   ]
  },
  {
   "cell_type": "markdown",
   "id": "b44e062c-27db-4b6d-88b7-953b11b43bce",
   "metadata": {},
   "source": [
    "# Data Quality"
   ]
  },
  {
   "cell_type": "markdown",
   "id": "e326d378-cee8-430f-9d1a-e1a76ba38b2b",
   "metadata": {},
   "source": [
    "## 1. Order Consistency\n",
    "### Orders present in both orders and orderlines tables"
   ]
  },
  {
   "cell_type": "code",
   "execution_count": 12,
   "id": "33acafc0-9057-4d34-8939-053308dc7ade",
   "metadata": {
    "tags": []
   },
   "outputs": [
    {
     "name": "stdout",
     "output_type": "stream",
     "text": [
      "<class 'pandas.core.frame.DataFrame'>\n",
      "Int64Index: 216057 entries, 0 to 216056\n",
      "Data columns (total 9 columns):\n",
      " #   Column            Non-Null Count   Dtype  \n",
      "---  ------            --------------   -----  \n",
      " 0   order_id          216057 non-null  int64  \n",
      " 1   created_date      216057 non-null  object \n",
      " 2   total_paid        216057 non-null  float64\n",
      " 3   status            216057 non-null  object \n",
      " 4   id                216057 non-null  int64  \n",
      " 5   product_quantity  216057 non-null  int64  \n",
      " 6   sku               216057 non-null  object \n",
      " 7   unit_price        216057 non-null  float64\n",
      " 8   date              216057 non-null  object \n",
      "dtypes: float64(2), int64(3), object(4)\n",
      "memory usage: 16.5+ MB\n",
      "--------------------------------------------------\n",
      "<class 'pandas.core.frame.DataFrame'>\n",
      "Int64Index: 170069 entries, 0 to 226903\n",
      "Data columns (total 4 columns):\n",
      " #   Column        Non-Null Count   Dtype  \n",
      "---  ------        --------------   -----  \n",
      " 0   order_id      170069 non-null  int64  \n",
      " 1   created_date  170069 non-null  object \n",
      " 2   total_paid    170069 non-null  float64\n",
      " 3   status        170069 non-null  object \n",
      "dtypes: float64(1), int64(1), object(2)\n",
      "memory usage: 6.5+ MB\n",
      "--------------------------------------------------\n",
      "<class 'pandas.core.frame.DataFrame'>\n",
      "Int64Index: 216057 entries, 0 to 216249\n",
      "Data columns (total 6 columns):\n",
      " #   Column            Non-Null Count   Dtype  \n",
      "---  ------            --------------   -----  \n",
      " 0   id                216057 non-null  int64  \n",
      " 1   order_id          216057 non-null  int64  \n",
      " 2   product_quantity  216057 non-null  int64  \n",
      " 3   sku               216057 non-null  object \n",
      " 4   unit_price        216057 non-null  float64\n",
      " 5   date              216057 non-null  object \n",
      "dtypes: float64(1), int64(3), object(2)\n",
      "memory usage: 11.5+ MB\n",
      "--------------------------------------------------\n"
     ]
    }
   ],
   "source": [
    "# keeps orders which are presents in both orderlines and orders tables\n",
    "oo = orders.merge(orderlines, on='order_id',how='inner')\n",
    "oo.info()\n",
    "print('-'*50)\n",
    "\n",
    "# order_qu table which have orders present in merged- oo\n",
    "orders_qu = orders.loc[orders.order_id.isin(oo.order_id)]\n",
    "orders_qu.info()\n",
    "print('-'*50)\n",
    "\n",
    "# orderlines_qu table which have orders present in merged- oo\n",
    "orderlines_qu = orderlines.loc[orderlines.order_id.isin(oo.order_id)]\n",
    "orderlines_qu.info()\n",
    "print('-'*50)"
   ]
  },
  {
   "cell_type": "code",
   "execution_count": 13,
   "id": "f1bea734-af25-442e-a71d-000fe1af1c47",
   "metadata": {
    "tags": []
   },
   "outputs": [
    {
     "data": {
      "text/plain": [
       "170069"
      ]
     },
     "metadata": {},
     "output_type": "display_data"
    },
    {
     "data": {
      "text/plain": [
       "170069"
      ]
     },
     "metadata": {},
     "output_type": "display_data"
    }
   ],
   "source": [
    "# no of orders in orders & orderlines table\n",
    "display(orderlines_qu.order_id.nunique())\n",
    "display(orders_qu.order_id.nunique())"
   ]
  },
  {
   "cell_type": "code",
   "execution_count": 10,
   "id": "3d328c3c-93f8-4280-b484-ea252b40e15d",
   "metadata": {
    "tags": []
   },
   "outputs": [
    {
     "data": {
      "text/plain": [
       "39598242.38"
      ]
     },
     "execution_count": 10,
     "metadata": {},
     "output_type": "execute_result"
    }
   ],
   "source": [
    "orders_qu.total_paid.sum()"
   ]
  },
  {
   "cell_type": "code",
   "execution_count": 11,
   "id": "2b7083a5-2270-4916-9fec-c4d0c42f9bfa",
   "metadata": {
    "tags": []
   },
   "outputs": [
    {
     "data": {
      "text/plain": [
       "35573658.82999999"
      ]
     },
     "execution_count": 11,
     "metadata": {},
     "output_type": "execute_result"
    }
   ],
   "source": [
    "orderlines_qu.unit_price.sum()"
   ]
  },
  {
   "cell_type": "markdown",
   "id": "d936b159-3298-4314-b2f6-f80a6e91677e",
   "metadata": {},
   "source": [
    "## 2. Products - SKU Consistency\n",
    "### Exclude orders with unknown products"
   ]
  },
  {
   "cell_type": "code",
   "execution_count": 14,
   "id": "8d8d0319-83a1-45d5-bff4-bceecf2eb8d5",
   "metadata": {
    "tags": []
   },
   "outputs": [
    {
     "data": {
      "text/plain": [
       "6798"
      ]
     },
     "execution_count": 14,
     "metadata": {},
     "output_type": "execute_result"
    }
   ],
   "source": [
    "# total unique skus in orderlines\n",
    "orderlines_qu.sku.nunique()"
   ]
  },
  {
   "cell_type": "code",
   "execution_count": 22,
   "id": "43b96ab6-70dd-49e0-8310-42f4c1d2c5f6",
   "metadata": {
    "tags": []
   },
   "outputs": [
    {
     "data": {
      "text/plain": [
       "368"
      ]
     },
     "execution_count": 22,
     "metadata": {},
     "output_type": "execute_result"
    }
   ],
   "source": [
    "# no of unknown sku's in orderlines\n",
    "orderlines_qu.loc[~(orderlines_qu.sku.isin(products.sku))]['sku'].nunique()"
   ]
  },
  {
   "cell_type": "code",
   "execution_count": 26,
   "id": "3c6e0629-7cad-4afb-b165-9c548f5ef43f",
   "metadata": {
    "tags": []
   },
   "outputs": [
    {
     "data": {
      "text/plain": [
       "True     209510\n",
       "False      6547\n",
       "Name: sku, dtype: int64"
      ]
     },
     "execution_count": 26,
     "metadata": {},
     "output_type": "execute_result"
    }
   ],
   "source": [
    "# number of orderlines for known & unknown sku\n",
    "orderlines_qu.sku.isin(products[\"sku\"]).value_counts()"
   ]
  },
  {
   "cell_type": "code",
   "execution_count": 34,
   "id": "aee777b3-50b1-40b1-ac43-57cb39ad7d94",
   "metadata": {
    "tags": []
   },
   "outputs": [
    {
     "data": {
      "text/plain": [
       "6319"
      ]
     },
     "execution_count": 34,
     "metadata": {},
     "output_type": "execute_result"
    }
   ],
   "source": [
    "# number of orders containing unknown skus\n",
    "len(orderlines_qu.loc[~(orderlines_qu.sku.isin(products.sku))]['order_id'].unique())"
   ]
  },
  {
   "cell_type": "code",
   "execution_count": 40,
   "id": "aff56b25-b878-4166-a63e-5e85600a5210",
   "metadata": {
    "tags": []
   },
   "outputs": [
    {
     "data": {
      "text/plain": [
       "166144"
      ]
     },
     "execution_count": 40,
     "metadata": {},
     "output_type": "execute_result"
    }
   ],
   "source": [
    "# number of orders containing known skus\n",
    "len(orderlines_qu.loc[(orderlines_qu.sku.isin(products.sku))]['order_id'].unique())"
   ]
  },
  {
   "cell_type": "markdown",
   "id": "9ca508c6-a3ca-4ee6-8137-064ba54e2b8e",
   "metadata": {},
   "source": [
    "We will drop all orders and corresponding orderlines that contains unknown skus."
   ]
  },
  {
   "cell_type": "markdown",
   "id": "a258a92f-87c6-43cb-b993-f48041405c2e",
   "metadata": {},
   "source": [
    "#### List of order_id with unknown skus"
   ]
  },
  {
   "cell_type": "code",
   "execution_count": 36,
   "id": "5d190390-5767-4dde-ad61-1528052f481d",
   "metadata": {
    "tags": []
   },
   "outputs": [],
   "source": [
    "# orderlines with unknown sku's (sku which are not listed in product table)\n",
    "orderlines_unknown_sku = orderlines_qu.loc[~(orderlines_qu.sku.isin(products.sku))]\n",
    "\n",
    "# list of order_id which have unknown sku's\n",
    "bl_order_id = list(orderlines_unknown_sku['order_id'].unique())"
   ]
  },
  {
   "cell_type": "markdown",
   "id": "6a9ff829-28af-456b-87a0-d1b70aebf6eb",
   "metadata": {
    "tags": []
   },
   "source": [
    "#### Orderlines containing known sku's"
   ]
  },
  {
   "cell_type": "code",
   "execution_count": 42,
   "id": "91a30d8f-e57a-4029-a603-b2df1a77f2f7",
   "metadata": {
    "tags": []
   },
   "outputs": [
    {
     "name": "stdout",
     "output_type": "stream",
     "text": [
      "<class 'pandas.core.frame.DataFrame'>\n",
      "Int64Index: 205403 entries, 0 to 216249\n",
      "Data columns (total 6 columns):\n",
      " #   Column            Non-Null Count   Dtype  \n",
      "---  ------            --------------   -----  \n",
      " 0   id                205403 non-null  int64  \n",
      " 1   order_id          205403 non-null  int64  \n",
      " 2   product_quantity  205403 non-null  int64  \n",
      " 3   sku               205403 non-null  object \n",
      " 4   unit_price        205403 non-null  float64\n",
      " 5   date              205403 non-null  object \n",
      "dtypes: float64(1), int64(3), object(2)\n",
      "memory usage: 11.0+ MB\n",
      "--------------------------------------------------\n",
      "no of orders in orderlines =  163750\n",
      "no of known skus :  6411\n"
     ]
    }
   ],
   "source": [
    "# orderlines_qu --> exclude black listed : unknown skus orderlines\n",
    "orderlines_qu = orderlines_qu.loc[~(orderlines_qu.order_id.isin(bl_order_id))]\n",
    "orderlines_qu.info()\n",
    "print('-'*50)\n",
    "\n",
    "print(\"no of orders in orderlines = \",orderlines_qu.order_id.nunique())\n",
    "print('no of known skus : ',orderlines_qu.sku.nunique())"
   ]
  },
  {
   "cell_type": "markdown",
   "id": "d4342147-27b0-499d-82bb-cd2515556b96",
   "metadata": {
    "tags": []
   },
   "source": [
    "#### Orders containing known sku's"
   ]
  },
  {
   "cell_type": "code",
   "execution_count": 44,
   "id": "81a5684c-808b-46ef-8a0e-b0f3462e5a49",
   "metadata": {
    "tags": []
   },
   "outputs": [
    {
     "name": "stdout",
     "output_type": "stream",
     "text": [
      "<class 'pandas.core.frame.DataFrame'>\n",
      "Int64Index: 163750 entries, 0 to 226903\n",
      "Data columns (total 4 columns):\n",
      " #   Column        Non-Null Count   Dtype  \n",
      "---  ------        --------------   -----  \n",
      " 0   order_id      163750 non-null  int64  \n",
      " 1   created_date  163750 non-null  object \n",
      " 2   total_paid    163750 non-null  float64\n",
      " 3   status        163750 non-null  object \n",
      "dtypes: float64(1), int64(1), object(2)\n",
      "memory usage: 6.2+ MB\n"
     ]
    },
    {
     "data": {
      "text/plain": [
       "'There are 163750 orders which have known skus.'"
      ]
     },
     "execution_count": 44,
     "metadata": {},
     "output_type": "execute_result"
    }
   ],
   "source": [
    "# order_qu --> exclude black listed : unknown skus containing orders\n",
    "orders_qu = orders_qu.loc[~(orders_qu.order_id.isin(bl_order_id))]\n",
    "orders_qu.info()\n",
    "\n",
    "f'There are {orders_qu.order_id.nunique()} orders which have known skus.'"
   ]
  },
  {
   "cell_type": "markdown",
   "id": "e4367dfb-25dd-40bf-819f-6bfeeeba5eba",
   "metadata": {},
   "source": [
    "#### Products containing known sku's"
   ]
  },
  {
   "cell_type": "code",
   "execution_count": 45,
   "id": "3d75c2cc-2755-4f7f-9660-a8d947cecadd",
   "metadata": {
    "tags": []
   },
   "outputs": [
    {
     "name": "stdout",
     "output_type": "stream",
     "text": [
      "<class 'pandas.core.frame.DataFrame'>\n",
      "Int64Index: 6411 entries, 0 to 9986\n",
      "Data columns (total 6 columns):\n",
      " #   Column    Non-Null Count  Dtype  \n",
      "---  ------    --------------  -----  \n",
      " 0   sku       6411 non-null   object \n",
      " 1   name      6411 non-null   object \n",
      " 2   desc      6411 non-null   object \n",
      " 3   price     6411 non-null   float64\n",
      " 4   in_stock  6411 non-null   bool   \n",
      " 5   p_type    6411 non-null   object \n",
      "dtypes: bool(1), float64(1), object(4)\n",
      "memory usage: 306.8+ KB\n"
     ]
    }
   ],
   "source": [
    "# product_qu --> exclude black listed : unknown skus - orders not present\n",
    "products_qu = products.loc[(products.sku.isin(orderlines_qu.sku))]\n",
    "products_qu.info()"
   ]
  },
  {
   "cell_type": "markdown",
   "id": "2d04a549-ff92-4248-bb2b-062d09b38eff",
   "metadata": {},
   "source": [
    "Now we have orders and orderlines table which have known products or products listed in `product` table as well as orders and orderlines table have same orders. Now we can say 3 of these tables have consistent data."
   ]
  },
  {
   "cell_type": "markdown",
   "id": "416331da-e144-45be-ae05-962b18e16a7f",
   "metadata": {},
   "source": [
    "## Export quality checked data as csv file"
   ]
  },
  {
   "cell_type": "code",
   "execution_count": 49,
   "id": "99091d4a-eeaf-41a3-b908-7da4d8d881ab",
   "metadata": {
    "tags": []
   },
   "outputs": [],
   "source": [
    "# comment this code after exporting file or uncomment to export after changes\n",
    "\n",
    "#products_qu.to_csv('quality_data/products_qu.csv',index=False)\n",
    "#orders_qu.to_csv('quality_data/orders_qu.csv',index=False)\n",
    "#orderlines_qu.to_csv('quality_data/orderlines_qu.csv',index=False)"
   ]
  },
  {
   "cell_type": "markdown",
   "id": "9f637b6d-29eb-4501-b611-de9262849397",
   "metadata": {
    "tags": []
   },
   "source": [
    "Outlier removal part in Analysis file"
   ]
  }
 ],
 "metadata": {
  "kernelspec": {
   "display_name": "Python 3 (ipykernel)",
   "language": "python",
   "name": "python3"
  },
  "language_info": {
   "codemirror_mode": {
    "name": "ipython",
    "version": 3
   },
   "file_extension": ".py",
   "mimetype": "text/x-python",
   "name": "python",
   "nbconvert_exporter": "python",
   "pygments_lexer": "ipython3",
   "version": "3.11.3"
  }
 },
 "nbformat": 4,
 "nbformat_minor": 5
}
